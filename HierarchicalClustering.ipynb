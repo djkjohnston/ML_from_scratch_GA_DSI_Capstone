{
 "cells": [
  {
   "cell_type": "code",
   "execution_count": 10,
   "metadata": {},
   "outputs": [],
   "source": [
    "import numpy as np\n",
    "from sklearn.datasets import make_blobs\n",
    "import pandas as pd\n",
    "from scipy.spatial.distance import cdist, pdist\n",
    "import itertools\n",
    "%matplotlib inline"
   ]
  },
  {
   "cell_type": "code",
   "execution_count": 53,
   "metadata": {},
   "outputs": [],
   "source": [
    "blobs = make_blobs(n_samples=15, n_features=2, centers=5, random_state=42)"
   ]
  },
  {
   "cell_type": "code",
   "execution_count": 24,
   "metadata": {},
   "outputs": [],
   "source": [
    "tmp_X = blobs[0]\n",
    "tmp_y= blobs[1]"
   ]
  },
  {
   "cell_type": "code",
   "execution_count": 25,
   "metadata": {},
   "outputs": [
    {
     "data": {
      "text/plain": [
       "<matplotlib.axes._subplots.AxesSubplot at 0x7fc5382385f8>"
      ]
     },
     "execution_count": 25,
     "metadata": {},
     "output_type": "execute_result"
    },
    {
     "data": {
      "image/png": "[encoded data removed]",
      "text/plain": [
       "<matplotlib.figure.Figure at 0x7fc5382302e8>"
      ]
     },
     "metadata": {},
     "output_type": "display_data"
    }
   ],
   "source": [
    "feature_names = ['feature_'+str(i) for i in range(tmp_X.shape[1])]\n",
    "blobs_df = pd.DataFrame(tmp_X, columns = feature_names)\n",
    "blobs_df['class'] = tmp_y\n",
    "blobs_df.head()\n",
    "\n",
    "blobs_df.plot.scatter(x='feature_0', y='feature_1', c='class', cmap='Set1')"
   ]
  },
  {
   "cell_type": "code",
   "execution_count": 54,
   "metadata": {},
   "outputs": [],
   "source": [
    "class HierarchicalClusterScratch():\n",
    "    def __init__(self):\n",
    "        self.dist_matrix = None # holds distance matrix\n",
    "        self.dist_queue = None # holds flattened distance matrix, used as a queue for clustering\n",
    "        self.cluster_hist = None # holds the history of cluster assignment\n",
    "\n",
    "    def fit(self, X):\n",
    "        # instantiate some things\n",
    "        self.__init_dists(X) # distances\n",
    "        \n",
    "#         print(self.dist_matrix)\n",
    "#         print(self.dist_queue)\n",
    "        \n",
    "        working_clusters = list(range(len(X))) # each entry in X is assigned a unique cluster \n",
    "        self.cluster_hist = [] # cluster history\n",
    "        self.cluster_hist.append(working_clusters.copy()) #store original state in cluster_history\n",
    "        \n",
    "#         print(self.dist_queue)\n",
    "        \n",
    "        for dist_i in self.dist_queue:\n",
    "            # check if all assigned clusters are the same\n",
    "            if len(set(working_clusters)) == 1:\n",
    "                break\n",
    "            \n",
    "            #identify the observation in X that have dist_i.\n",
    "            # Take every other entry since you will get [2,4] and [4,2] \n",
    "            # but want to be robust against cases were multiple distances have the same value\n",
    "            indexes_to_be_clustered = np.where(self.dist_matrix==dist_i)[0::2] \n",
    "            # I expect the np.where is causing speed issues at scale\n",
    "            \n",
    "            \n",
    "            for X_i in indexes_to_be_clustered:\n",
    "#                 print(working_clusters)\n",
    "#                 print(X_i)\n",
    "                obs_a = X_i[0]\n",
    "                obs_b = X_i[1]\n",
    "                \n",
    "                cluster_a = working_clusters[obs_a]\n",
    "                cluster_b = working_clusters[obs_b]\n",
    "                \n",
    "                count_a = working_clusters.count(cluster_a)\n",
    "                count_b = working_clusters.count(cluster_b)\n",
    "                \n",
    "                # group smaller cluster into the larger. \n",
    "                # If they are of equal size, group cluster_a into cluster_b\n",
    "                if count_a > count_b:\n",
    "                    working_clusters[obs_b] = cluster_a\n",
    "                else:\n",
    "                    working_clusters[obs_a] = cluster_b\n",
    "                self.cluster_hist.append(working_clusters.copy())\n",
    "                \n",
    "                # check if all points are assigned to the same cluster\n",
    "            if len(set(working_clusters)) == 1:\n",
    "#                 print(\"Clustering is complete!\")\n",
    "                break\n",
    "\n",
    "\n",
    "    def __init_dists(self, X):\n",
    "        # set distance matrix\n",
    "        tmp_dist = cdist(X, X)\n",
    "        np.fill_diagonal(tmp_dist, np.nan) #np.fill_diagonal works IN PLACE\n",
    "        self.dist_matrix = tmp_dist.copy()\n",
    "        \n",
    "        # set flat_dist\n",
    "        flat_dists = tmp_dist.flatten() #flatten\n",
    "        flat_dists.sort() # sort in place\n",
    "        \n",
    "        #every pairwise distance between points will appear twice (a->b, b->a). \n",
    "        #This removes the doubles but preserves any cases where the same distance incidentally occures\n",
    "        flat_length = len(flat_dists)\n",
    "        flat_length = range(len(flat_dists))\n",
    "        flat_length = list(flat_length)[0::2]\n",
    "        flat_dists = flat_dists[flat_length]\n",
    "        \n",
    "        flat_dists = flat_dists[~np.isnan(flat_dists)] # remove np.nans \n",
    "        self.dist_queue = flat_dists # should i use list?\n",
    "        \n"
   ]
  },
  {
   "cell_type": "code",
   "execution_count": 55,
   "metadata": {},
   "outputs": [],
   "source": [
    "class HierarchicalClusterScratch_mk2():\n",
    "    def __init__(self):\n",
    "        self.dist_queue = None # holds flattened distance matrix, used as a queue for clustering\n",
    "        self.index_queue = None # holds the index pairs of \n",
    "        self.cluster_hist = None # holds the history of cluster assignment\n",
    "\n",
    "    def fit(self, X):\n",
    "        # calculate distances and identify order of least to greatest\n",
    "        self.dist_queue = pdist(X) # distances\n",
    "        sort_order = self.dist_queue.argsort() #order of least to greatest\n",
    "#         self.dist_queue = self.dist_queue[sort_order] # not really necessary\n",
    "            \n",
    "        # use itertools to quickly generate index pairs\n",
    "        self.index_queue = itertools.combinations(range(len(X)), 2)\n",
    "        self.index_queue = np.array(list(self.index_queue)) #type as np.array so it can be reordered using sort_order       \n",
    "        self.index_queue = self.index_queue[sort_order] #index pairs ordered by distance\n",
    "        \n",
    "        # assign initial clusters and instantiate history\n",
    "        working_clusters = list(range(len(X))) # each entry in X is assigned a unique cluster \n",
    "        self.cluster_hist = [] # cluster history\n",
    "        self.cluster_hist.append(working_clusters.copy()) #store initial state in cluster_history\n",
    "        \n",
    "        for X_i in self.index_queue:\n",
    "            obs_a = X_i[0]\n",
    "            obs_b = X_i[1]\n",
    "\n",
    "            cluster_a = working_clusters[obs_a]\n",
    "            cluster_b = working_clusters[obs_b]\n",
    "\n",
    "            count_a = working_clusters.count(cluster_a)\n",
    "            count_b = working_clusters.count(cluster_b)\n",
    "\n",
    "            # group smaller cluster into the larger. \n",
    "            # If they are of equal size, group cluster_a into cluster_b\n",
    "            if count_a > count_b:\n",
    "                working_clusters[obs_b] = cluster_a\n",
    "            else:\n",
    "                working_clusters[obs_a] = cluster_b\n",
    "                \n",
    "            self.cluster_hist.append(working_clusters.copy())\n",
    "            \n",
    "            # check if all points are assigned to the same cluster\n",
    "            if len(set(working_clusters)) == 1:\n",
    "#                 print(\"Clustering is complete!\")\n",
    "                break"
   ]
  },
  {
   "cell_type": "code",
   "execution_count": 61,
   "metadata": {},
   "outputs": [
    {
     "name": "stdout",
     "output_type": "stream",
     "text": [
      "185 µs ± 12 µs per loop (mean ± std. dev. of 7 runs, 10000 loops each)\n"
     ]
    }
   ],
   "source": [
    "%%timeit\n",
    "hc2_scratch = HierarchicalClusterScratch_mk2()\n",
    "hc2_scratch.fit(blobs[0])"
   ]
  },
  {
   "cell_type": "code",
   "execution_count": 57,
   "metadata": {
    "collapsed": true
   },
   "outputs": [
    {
     "data": {
      "text/plain": [
       "[[0, 1, 2, 3, 4, 5, 6, 7, 8, 9, 10, 11, 12, 13, 14],\n",
       " [0, 1, 2, 3, 4, 5, 6, 8, 8, 9, 10, 11, 12, 13, 14],\n",
       " [0, 1, 14, 3, 4, 5, 6, 8, 8, 9, 10, 11, 12, 13, 14],\n",
       " [0, 1, 14, 3, 4, 5, 6, 8, 8, 9, 8, 11, 12, 13, 14],\n",
       " [0, 1, 14, 3, 4, 5, 6, 8, 8, 9, 8, 11, 12, 13, 14],\n",
       " [0, 1, 14, 11, 4, 5, 6, 8, 8, 9, 8, 11, 12, 13, 14],\n",
       " [8, 1, 14, 11, 4, 5, 6, 8, 8, 9, 8, 11, 12, 13, 14],\n",
       " [8, 1, 14, 11, 4, 5, 6, 8, 8, 9, 8, 11, 12, 8, 14],\n",
       " [8, 1, 14, 11, 4, 5, 6, 8, 8, 9, 8, 11, 12, 8, 14],\n",
       " [8, 1, 14, 11, 4, 5, 6, 8, 8, 9, 8, 11, 8, 8, 14],\n",
       " [8, 1, 14, 11, 4, 5, 6, 8, 8, 9, 8, 11, 8, 8, 14],\n",
       " [8, 1, 14, 11, 4, 5, 6, 8, 8, 9, 8, 11, 8, 8, 14],\n",
       " [8, 1, 14, 11, 4, 5, 6, 8, 8, 14, 8, 11, 8, 8, 14],\n",
       " [8, 11, 14, 11, 4, 5, 6, 8, 8, 14, 8, 11, 8, 8, 14],\n",
       " [8, 11, 14, 11, 5, 5, 6, 8, 8, 14, 8, 11, 8, 8, 14],\n",
       " [8, 11, 14, 11, 5, 5, 6, 8, 8, 14, 8, 11, 8, 8, 14],\n",
       " [8, 11, 14, 11, 5, 5, 6, 8, 8, 14, 8, 11, 8, 8, 14],\n",
       " [8, 11, 14, 11, 5, 5, 5, 8, 8, 14, 8, 11, 8, 8, 14],\n",
       " [8, 11, 14, 11, 5, 5, 5, 8, 8, 14, 8, 11, 8, 8, 14],\n",
       " [8, 11, 14, 11, 5, 5, 5, 8, 8, 14, 8, 11, 8, 8, 14],\n",
       " [8, 11, 14, 11, 5, 5, 5, 8, 8, 14, 8, 11, 8, 8, 14],\n",
       " [8, 11, 14, 11, 5, 5, 5, 8, 8, 14, 8, 11, 8, 8, 14],\n",
       " [8, 11, 14, 11, 5, 5, 5, 8, 8, 14, 8, 11, 8, 8, 14],\n",
       " [8, 11, 14, 11, 5, 5, 5, 8, 8, 14, 8, 11, 8, 8, 14],\n",
       " [8, 11, 14, 11, 5, 5, 5, 8, 8, 14, 8, 11, 8, 8, 14],\n",
       " [8, 8, 14, 11, 5, 5, 5, 8, 8, 14, 8, 11, 8, 8, 14],\n",
       " [8, 8, 14, 14, 5, 5, 5, 8, 8, 14, 8, 11, 8, 8, 14],\n",
       " [8, 8, 14, 14, 5, 5, 5, 8, 8, 14, 8, 14, 8, 8, 14],\n",
       " [8, 8, 14, 14, 5, 5, 5, 8, 8, 14, 8, 14, 8, 8, 14],\n",
       " [8, 8, 14, 14, 5, 5, 5, 8, 8, 14, 8, 14, 8, 8, 14],\n",
       " [8, 8, 14, 14, 5, 5, 5, 8, 8, 14, 8, 14, 8, 8, 14],\n",
       " [8, 8, 14, 14, 5, 5, 5, 8, 8, 14, 8, 14, 8, 8, 14],\n",
       " [8, 8, 14, 14, 5, 5, 5, 8, 8, 14, 8, 14, 8, 8, 14],\n",
       " [8, 8, 8, 14, 5, 5, 5, 8, 8, 14, 8, 14, 8, 8, 14],\n",
       " [8, 8, 8, 14, 5, 5, 5, 8, 8, 14, 8, 14, 8, 8, 14],\n",
       " [8, 8, 8, 14, 5, 5, 5, 8, 8, 14, 8, 8, 8, 8, 14],\n",
       " [8, 8, 8, 14, 5, 5, 5, 8, 8, 8, 8, 8, 8, 8, 14],\n",
       " [8, 8, 8, 14, 5, 5, 5, 8, 8, 8, 8, 8, 8, 8, 14],\n",
       " [8, 8, 8, 14, 5, 5, 5, 8, 8, 8, 8, 8, 8, 8, 14],\n",
       " [8, 8, 8, 14, 5, 5, 5, 8, 8, 8, 8, 8, 8, 8, 8],\n",
       " [8, 8, 8, 14, 5, 5, 5, 8, 8, 8, 8, 8, 8, 8, 8],\n",
       " [8, 8, 8, 8, 5, 5, 5, 8, 8, 8, 8, 8, 8, 8, 8],\n",
       " [8, 8, 8, 8, 5, 5, 5, 8, 8, 8, 8, 8, 8, 8, 8],\n",
       " [8, 8, 8, 8, 5, 5, 5, 8, 8, 8, 8, 8, 8, 8, 8],\n",
       " [8, 8, 8, 8, 5, 5, 5, 8, 8, 8, 8, 8, 8, 8, 8],\n",
       " [8, 8, 8, 8, 5, 5, 5, 8, 8, 8, 8, 8, 8, 8, 8],\n",
       " [8, 8, 8, 8, 5, 5, 5, 8, 8, 8, 8, 8, 8, 8, 8],\n",
       " [8, 8, 8, 8, 5, 5, 5, 8, 8, 8, 8, 8, 8, 8, 8],\n",
       " [8, 8, 8, 8, 5, 5, 5, 8, 8, 8, 8, 8, 8, 8, 8],\n",
       " [8, 8, 8, 8, 5, 5, 5, 8, 8, 8, 8, 8, 8, 8, 8],\n",
       " [8, 8, 8, 8, 5, 5, 5, 8, 8, 8, 8, 8, 8, 8, 8],\n",
       " [8, 8, 8, 8, 5, 5, 5, 8, 8, 8, 8, 8, 8, 8, 8],\n",
       " [8, 8, 8, 8, 5, 5, 8, 8, 8, 8, 8, 8, 8, 8, 8],\n",
       " [8, 8, 8, 8, 5, 5, 8, 8, 8, 8, 8, 8, 8, 8, 8],\n",
       " [8, 8, 8, 8, 5, 5, 8, 8, 8, 8, 8, 8, 8, 8, 8],\n",
       " [8, 8, 8, 8, 5, 5, 8, 8, 8, 8, 8, 8, 8, 8, 8],\n",
       " [8, 8, 8, 8, 5, 5, 8, 8, 8, 8, 8, 8, 8, 8, 8],\n",
       " [8, 8, 8, 8, 5, 5, 8, 8, 8, 8, 8, 8, 8, 8, 8],\n",
       " [8, 8, 8, 8, 5, 5, 8, 8, 8, 8, 8, 8, 8, 8, 8],\n",
       " [8, 8, 8, 8, 5, 5, 8, 8, 8, 8, 8, 8, 8, 8, 8],\n",
       " [8, 8, 8, 8, 5, 5, 8, 8, 8, 8, 8, 8, 8, 8, 8],\n",
       " [8, 8, 8, 8, 5, 5, 8, 8, 8, 8, 8, 8, 8, 8, 8],\n",
       " [8, 8, 8, 8, 5, 5, 8, 8, 8, 8, 8, 8, 8, 8, 8],\n",
       " [8, 8, 8, 8, 8, 5, 8, 8, 8, 8, 8, 8, 8, 8, 8],\n",
       " [8, 8, 8, 8, 8, 5, 8, 8, 8, 8, 8, 8, 8, 8, 8],\n",
       " [8, 8, 8, 8, 8, 5, 8, 8, 8, 8, 8, 8, 8, 8, 8],\n",
       " [8, 8, 8, 8, 8, 5, 8, 8, 8, 8, 8, 8, 8, 8, 8],\n",
       " [8, 8, 8, 8, 8, 5, 8, 8, 8, 8, 8, 8, 8, 8, 8],\n",
       " [8, 8, 8, 8, 8, 5, 8, 8, 8, 8, 8, 8, 8, 8, 8],\n",
       " [8, 8, 8, 8, 8, 5, 8, 8, 8, 8, 8, 8, 8, 8, 8],\n",
       " [8, 8, 8, 8, 8, 5, 8, 8, 8, 8, 8, 8, 8, 8, 8],\n",
       " [8, 8, 8, 8, 8, 8, 8, 8, 8, 8, 8, 8, 8, 8, 8]]"
      ]
     },
     "execution_count": 57,
     "metadata": {},
     "output_type": "execute_result"
    }
   ],
   "source": [
    "hc2_scratch.cluster_hist"
   ]
  },
  {
   "cell_type": "code",
   "execution_count": 60,
   "metadata": {
    "scrolled": false
   },
   "outputs": [
    {
     "name": "stdout",
     "output_type": "stream",
     "text": [
      "535 µs ± 39.6 µs per loop (mean ± std. dev. of 7 runs, 1000 loops each)\n"
     ]
    }
   ],
   "source": [
    "%%timeit\n",
    "hc_scratch = HierarchicalClusterScratch()\n",
    "hc_scratch.fit(blobs[0])"
   ]
  },
  {
   "cell_type": "code",
   "execution_count": 62,
   "metadata": {
    "collapsed": true
   },
   "outputs": [
    {
     "data": {
      "text/plain": [
       "array([  7.61007297,  13.90072562,   9.82243011,  14.28803524,\n",
       "        14.87185494,  13.03741896,   1.81248453,   1.01906781,\n",
       "        14.77154256,   1.39850823,   9.09711043,   1.72972917,\n",
       "         1.12932761,  14.6524103 ,   7.17206472,   2.55681318,\n",
       "        14.79778952,  16.06226698,  14.55121184,   5.85342922,\n",
       "         6.59107566,   7.46684813,   6.65116497,   1.61026809,\n",
       "         8.87482462,   7.69627618,   7.7452226 ,   6.93621764,\n",
       "        13.94733298,  15.56002568,  14.69950733,  12.10294613,\n",
       "        12.94720505,   2.1439722 ,  12.63017426,   6.64184902,\n",
       "        14.67460036,  13.57256677,   0.86504467,  16.92041336,\n",
       "        18.26843262,  16.83975526,   8.1558248 ,   8.81407743,\n",
       "         6.47258827,   9.01328835,   1.00830799,  11.22313811,\n",
       "        10.05443384,   7.25258406,   1.65309398,   2.03803649,\n",
       "        13.65476692,  14.13256882,  16.07193206,  13.17955442,\n",
       "        15.95143179,  13.34852027,  13.18362056,  14.69406856,\n",
       "         1.84181288,  14.42097187,  14.82285629,  17.67708911,\n",
       "        13.86254197,  17.28523079,  13.77592169,  13.748138  ,\n",
       "        16.31641129,  12.62276348,  13.00539136,  16.77207375,\n",
       "        12.0449521 ,  15.84366803,  11.93420919,  11.91245441,\n",
       "        15.49596563,   0.8518091 ,  12.95939025,   0.92896433,\n",
       "         7.37973896,   3.07166385,   1.92012815,  12.8480904 ,\n",
       "        13.77664324,   0.96045266,   8.08034234,   2.53967669,\n",
       "         1.53133181,  13.68795921,  13.59609568,   6.49776463,\n",
       "        15.73898886,  14.59245959,   1.57543808,   8.20736679,\n",
       "         2.22366292,   1.04551434,  13.40007831,  10.42847625,\n",
       "         9.25256441,   7.06792289,   1.17891599,  15.46695784,  14.35491927])"
      ]
     },
     "execution_count": 62,
     "metadata": {},
     "output_type": "execute_result"
    }
   ],
   "source": [
    "pdist(blobs[0])"
   ]
  },
  {
   "cell_type": "code",
   "execution_count": 59,
   "metadata": {
    "collapsed": true
   },
   "outputs": [
    {
     "data": {
      "text/plain": [
       "[[0, 1, 2, 3, 4, 5, 6, 7, 8, 9, 10, 11, 12, 13, 14],\n",
       " [0, 1, 2, 3, 4, 5, 6, 8, 8, 9, 10, 11, 12, 13, 14],\n",
       " [0, 1, 14, 3, 4, 5, 6, 8, 8, 9, 10, 11, 12, 13, 14],\n",
       " [0, 1, 14, 3, 4, 5, 6, 8, 8, 9, 8, 11, 12, 13, 14],\n",
       " [0, 1, 14, 3, 4, 5, 6, 8, 8, 9, 8, 11, 12, 13, 14],\n",
       " [0, 1, 14, 11, 4, 5, 6, 8, 8, 9, 8, 11, 12, 13, 14],\n",
       " [8, 1, 14, 11, 4, 5, 6, 8, 8, 9, 8, 11, 12, 13, 14],\n",
       " [8, 1, 14, 11, 4, 5, 6, 8, 8, 9, 8, 11, 12, 8, 14],\n",
       " [8, 1, 14, 11, 4, 5, 6, 8, 8, 9, 8, 11, 12, 8, 14],\n",
       " [8, 1, 14, 11, 4, 5, 6, 8, 8, 9, 8, 11, 8, 8, 14],\n",
       " [8, 1, 14, 11, 4, 5, 6, 8, 8, 9, 8, 11, 8, 8, 14],\n",
       " [8, 1, 14, 11, 4, 5, 6, 8, 8, 9, 8, 11, 8, 8, 14],\n",
       " [8, 1, 14, 11, 4, 5, 6, 8, 8, 14, 8, 11, 8, 8, 14],\n",
       " [8, 11, 14, 11, 4, 5, 6, 8, 8, 14, 8, 11, 8, 8, 14],\n",
       " [8, 11, 14, 11, 5, 5, 6, 8, 8, 14, 8, 11, 8, 8, 14],\n",
       " [8, 11, 14, 11, 5, 5, 6, 8, 8, 14, 8, 11, 8, 8, 14],\n",
       " [8, 11, 14, 11, 5, 5, 6, 8, 8, 14, 8, 11, 8, 8, 14],\n",
       " [8, 11, 14, 11, 5, 5, 5, 8, 8, 14, 8, 11, 8, 8, 14],\n",
       " [8, 11, 14, 11, 5, 5, 5, 8, 8, 14, 8, 11, 8, 8, 14],\n",
       " [8, 11, 14, 11, 5, 5, 5, 8, 8, 14, 8, 11, 8, 8, 14],\n",
       " [8, 11, 14, 11, 5, 5, 5, 8, 8, 14, 8, 11, 8, 8, 14],\n",
       " [8, 11, 14, 11, 5, 5, 5, 8, 8, 14, 8, 11, 8, 8, 14],\n",
       " [8, 11, 14, 11, 5, 5, 5, 8, 8, 14, 8, 11, 8, 8, 14],\n",
       " [8, 11, 14, 11, 5, 5, 5, 8, 8, 14, 8, 11, 8, 8, 14],\n",
       " [8, 11, 14, 11, 5, 5, 5, 8, 8, 14, 8, 11, 8, 8, 14],\n",
       " [8, 8, 14, 11, 5, 5, 5, 8, 8, 14, 8, 11, 8, 8, 14],\n",
       " [8, 8, 14, 14, 5, 5, 5, 8, 8, 14, 8, 11, 8, 8, 14],\n",
       " [8, 8, 14, 14, 5, 5, 5, 8, 8, 14, 8, 14, 8, 8, 14],\n",
       " [8, 8, 14, 14, 5, 5, 5, 8, 8, 14, 8, 14, 8, 8, 14],\n",
       " [8, 8, 14, 14, 5, 5, 5, 8, 8, 14, 8, 14, 8, 8, 14],\n",
       " [8, 8, 14, 14, 5, 5, 5, 8, 8, 14, 8, 14, 8, 8, 14],\n",
       " [8, 8, 14, 14, 5, 5, 5, 8, 8, 14, 8, 14, 8, 8, 14],\n",
       " [8, 8, 14, 14, 5, 5, 5, 8, 8, 14, 8, 14, 8, 8, 14],\n",
       " [8, 8, 8, 14, 5, 5, 5, 8, 8, 14, 8, 14, 8, 8, 14],\n",
       " [8, 8, 8, 14, 5, 5, 5, 8, 8, 14, 8, 14, 8, 8, 14],\n",
       " [8, 8, 8, 14, 5, 5, 5, 8, 8, 14, 8, 8, 8, 8, 14],\n",
       " [8, 8, 8, 14, 5, 5, 5, 8, 8, 8, 8, 8, 8, 8, 14],\n",
       " [8, 8, 8, 14, 5, 5, 5, 8, 8, 8, 8, 8, 8, 8, 14],\n",
       " [8, 8, 8, 14, 5, 5, 5, 8, 8, 8, 8, 8, 8, 8, 14],\n",
       " [8, 8, 8, 14, 5, 5, 5, 8, 8, 8, 8, 8, 8, 8, 8],\n",
       " [8, 8, 8, 14, 5, 5, 5, 8, 8, 8, 8, 8, 8, 8, 8],\n",
       " [8, 8, 8, 8, 5, 5, 5, 8, 8, 8, 8, 8, 8, 8, 8],\n",
       " [8, 8, 8, 8, 5, 5, 5, 8, 8, 8, 8, 8, 8, 8, 8],\n",
       " [8, 8, 8, 8, 5, 5, 5, 8, 8, 8, 8, 8, 8, 8, 8],\n",
       " [8, 8, 8, 8, 5, 5, 5, 8, 8, 8, 8, 8, 8, 8, 8],\n",
       " [8, 8, 8, 8, 5, 5, 5, 8, 8, 8, 8, 8, 8, 8, 8],\n",
       " [8, 8, 8, 8, 5, 5, 5, 8, 8, 8, 8, 8, 8, 8, 8],\n",
       " [8, 8, 8, 8, 5, 5, 5, 8, 8, 8, 8, 8, 8, 8, 8],\n",
       " [8, 8, 8, 8, 5, 5, 5, 8, 8, 8, 8, 8, 8, 8, 8],\n",
       " [8, 8, 8, 8, 5, 5, 5, 8, 8, 8, 8, 8, 8, 8, 8],\n",
       " [8, 8, 8, 8, 5, 5, 5, 8, 8, 8, 8, 8, 8, 8, 8],\n",
       " [8, 8, 8, 8, 5, 5, 5, 8, 8, 8, 8, 8, 8, 8, 8],\n",
       " [8, 8, 8, 8, 5, 5, 8, 8, 8, 8, 8, 8, 8, 8, 8],\n",
       " [8, 8, 8, 8, 5, 5, 8, 8, 8, 8, 8, 8, 8, 8, 8],\n",
       " [8, 8, 8, 8, 5, 5, 8, 8, 8, 8, 8, 8, 8, 8, 8],\n",
       " [8, 8, 8, 8, 5, 5, 8, 8, 8, 8, 8, 8, 8, 8, 8],\n",
       " [8, 8, 8, 8, 5, 5, 8, 8, 8, 8, 8, 8, 8, 8, 8],\n",
       " [8, 8, 8, 8, 5, 5, 8, 8, 8, 8, 8, 8, 8, 8, 8],\n",
       " [8, 8, 8, 8, 5, 5, 8, 8, 8, 8, 8, 8, 8, 8, 8],\n",
       " [8, 8, 8, 8, 5, 5, 8, 8, 8, 8, 8, 8, 8, 8, 8],\n",
       " [8, 8, 8, 8, 5, 5, 8, 8, 8, 8, 8, 8, 8, 8, 8],\n",
       " [8, 8, 8, 8, 5, 5, 8, 8, 8, 8, 8, 8, 8, 8, 8],\n",
       " [8, 8, 8, 8, 5, 5, 8, 8, 8, 8, 8, 8, 8, 8, 8],\n",
       " [8, 8, 8, 8, 8, 5, 8, 8, 8, 8, 8, 8, 8, 8, 8],\n",
       " [8, 8, 8, 8, 8, 5, 8, 8, 8, 8, 8, 8, 8, 8, 8],\n",
       " [8, 8, 8, 8, 8, 5, 8, 8, 8, 8, 8, 8, 8, 8, 8],\n",
       " [8, 8, 8, 8, 8, 5, 8, 8, 8, 8, 8, 8, 8, 8, 8],\n",
       " [8, 8, 8, 8, 8, 5, 8, 8, 8, 8, 8, 8, 8, 8, 8],\n",
       " [8, 8, 8, 8, 8, 5, 8, 8, 8, 8, 8, 8, 8, 8, 8],\n",
       " [8, 8, 8, 8, 8, 5, 8, 8, 8, 8, 8, 8, 8, 8, 8],\n",
       " [8, 8, 8, 8, 8, 5, 8, 8, 8, 8, 8, 8, 8, 8, 8],\n",
       " [8, 8, 8, 8, 8, 8, 8, 8, 8, 8, 8, 8, 8, 8, 8]]"
      ]
     },
     "execution_count": 59,
     "metadata": {},
     "output_type": "execute_result"
    }
   ],
   "source": [
    "hc_scratch.cluster_hist"
   ]
  },
  {
   "cell_type": "code",
   "execution_count": 30,
   "metadata": {},
   "outputs": [],
   "source": [
    "from sklearn.cluster import AgglomerativeClustering"
   ]
  },
  {
   "cell_type": "code",
   "execution_count": 63,
   "metadata": {},
   "outputs": [
    {
     "name": "stdout",
     "output_type": "stream",
     "text": [
      "196 µs ± 9.37 µs per loop (mean ± std. dev. of 7 runs, 1000 loops each)\n"
     ]
    }
   ],
   "source": [
    "%%timeit\n",
    "hc_sklearn = AgglomerativeClustering()\n",
    "hc_sklearn.fit(blobs[0])"
   ]
  },
  {
   "cell_type": "code",
   "execution_count": null,
   "metadata": {},
   "outputs": [],
   "source": []
  }
 ],
 "metadata": {
  "kernelspec": {
   "display_name": "Python 3",
   "language": "python",
   "name": "python3"
  },
  "language_info": {
   "codemirror_mode": {
    "name": "ipython",
    "version": 3
   },
   "file_extension": ".py",
   "mimetype": "text/x-python",
   "name": "python",
   "nbconvert_exporter": "python",
   "pygments_lexer": "ipython3",
   "version": "3.6.2"
  }
 },
 "nbformat": 4,
 "nbformat_minor": 2
}
