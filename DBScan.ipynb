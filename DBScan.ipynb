{
 "cells": [
  {
   "cell_type": "code",
   "execution_count": 1,
   "metadata": {},
   "outputs": [],
   "source": [
    "import numpy as np\n",
    "from sklearn.datasets import make_moons\n",
    "import pandas as pd\n",
    "from scipy.spatial.distance import cdist\n",
    "import matplotlib.pyplot as plt\n",
    "import seaborn as sns\n",
    "%matplotlib inline"
   ]
  },
  {
   "cell_type": "code",
   "execution_count": 2,
   "metadata": {},
   "outputs": [],
   "source": [
    "moons = make_moons(n_samples=1000, random_state=42)"
   ]
  },
  {
   "cell_type": "code",
   "execution_count": 4,
   "metadata": {},
   "outputs": [],
   "source": [
    "X = moons[0]\n",
    "y= moons[1]"
   ]
  },
  {
   "cell_type": "code",
   "execution_count": 5,
   "metadata": {},
   "outputs": [],
   "source": [
    "feature_names = ['feature_'+str(i) for i in range(X.shape[1])]\n",
    "# feature_names"
   ]
  },
  {
   "cell_type": "code",
   "execution_count": 6,
   "metadata": {},
   "outputs": [],
   "source": [
    "moons_df = pd.DataFrame(X, columns = feature_names)\n",
    "moons_df['class'] = y"
   ]
  },
  {
   "cell_type": "code",
   "execution_count": 8,
   "metadata": {
    "scrolled": true
   },
   "outputs": [
    {
     "data": {
      "text/html": [
       "<div>\n",
       "<table border=\"1\" class=\"dataframe\">\n",
       "  <thead>\n",
       "    <tr style=\"text-align: right;\">\n",
       "      <th></th>\n",
       "      <th>feature_0</th>\n",
       "      <th>feature_1</th>\n",
       "      <th>class</th>\n",
       "    </tr>\n",
       "  </thead>\n",
       "  <tbody>\n",
       "    <tr>\n",
       "      <th>0</th>\n",
       "      <td>0.008727</td>\n",
       "      <td>0.368174</td>\n",
       "      <td>1</td>\n",
       "    </tr>\n",
       "    <tr>\n",
       "      <th>1</th>\n",
       "      <td>0.921384</td>\n",
       "      <td>-0.496905</td>\n",
       "      <td>1</td>\n",
       "    </tr>\n",
       "    <tr>\n",
       "      <th>2</th>\n",
       "      <td>0.940226</td>\n",
       "      <td>-0.498212</td>\n",
       "      <td>1</td>\n",
       "    </tr>\n",
       "    <tr>\n",
       "      <th>3</th>\n",
       "      <td>0.465875</td>\n",
       "      <td>-0.345406</td>\n",
       "      <td>1</td>\n",
       "    </tr>\n",
       "    <tr>\n",
       "      <th>4</th>\n",
       "      <td>-0.850412</td>\n",
       "      <td>0.526117</td>\n",
       "      <td>0</td>\n",
       "    </tr>\n",
       "  </tbody>\n",
       "</table>\n",
       "</div>"
      ],
      "text/plain": [
       "   feature_0  feature_1  class\n",
       "0   0.008727   0.368174      1\n",
       "1   0.921384  -0.496905      1\n",
       "2   0.940226  -0.498212      1\n",
       "3   0.465875  -0.345406      1\n",
       "4  -0.850412   0.526117      0"
      ]
     },
     "execution_count": 8,
     "metadata": {},
     "output_type": "execute_result"
    }
   ],
   "source": [
    "moons_df.head()"
   ]
  },
  {
   "cell_type": "code",
   "execution_count": 15,
   "metadata": {},
   "outputs": [
    {
     "data": {
      "text/plain": [
       "1    500\n",
       "0    500\n",
       "Name: class, dtype: int64"
      ]
     },
     "execution_count": 15,
     "metadata": {},
     "output_type": "execute_result"
    }
   ],
   "source": [
    "moons_df['class'].value_counts()"
   ]
  },
  {
   "cell_type": "code",
   "execution_count": 14,
   "metadata": {
    "scrolled": true
   },
   "outputs": [
    {
     "data": {
      "text/plain": [
       "<matplotlib.axes._subplots.AxesSubplot at 0x7f3a52724da0>"
      ]
     },
     "execution_count": 14,
     "metadata": {},
     "output_type": "execute_result"
    },
    {
     "data": {
      "image/png": "[encoded data removed]",
      "text/plain": [
       "<matplotlib.figure.Figure at 0x7f3a525d2940>"
      ]
     },
     "metadata": {},
     "output_type": "display_data"
    }
   ],
   "source": [
    "moons_df.plot.scatter(x='feature_0', y='feature_1', c='class')"
   ]
  },
  {
   "cell_type": "code",
   "execution_count": 18,
   "metadata": {},
   "outputs": [],
   "source": [
    "start = X[np.random.choice(X.shape[0])]"
   ]
  },
  {
   "cell_type": "code",
   "execution_count": 19,
   "metadata": {
    "scrolled": true
   },
   "outputs": [
    {
     "data": {
      "text/plain": [
       "array([ 1.93849061,  0.15469524])"
      ]
     },
     "execution_count": 19,
     "metadata": {},
     "output_type": "execute_result"
    }
   ],
   "source": [
    "start"
   ]
  },
  {
   "cell_type": "code",
   "execution_count": 72,
   "metadata": {},
   "outputs": [
    {
     "ename": "ValueError",
     "evalue": "XB must be a 2-dimensional array.",
     "output_type": "error",
     "traceback": [
      "\u001b[0;31m\u001b[0m",
      "\u001b[0;31mValueError\u001b[0mTraceback (most recent call last)",
      "\u001b[0;32m<ipython-input-72-25297e2fc0ff>\u001b[0m in \u001b[0;36m<module>\u001b[0;34m()\u001b[0m\n\u001b[0;32m----> 1\u001b[0;31m \u001b[0mall_dists\u001b[0m \u001b[0;34m=\u001b[0m \u001b[0mcdist\u001b[0m\u001b[0;34m(\u001b[0m\u001b[0mX\u001b[0m\u001b[0;34m,\u001b[0m \u001b[0mX\u001b[0m\u001b[0;34m[\u001b[0m\u001b[0;36m0\u001b[0m\u001b[0;34m]\u001b[0m\u001b[0;34m)\u001b[0m\u001b[0;34m\u001b[0m\u001b[0m\n\u001b[0m\u001b[1;32m      2\u001b[0m \u001b[0mr\u001b[0m \u001b[0;34m=\u001b[0m \u001b[0mdists\u001b[0m\u001b[0;34m.\u001b[0m\u001b[0mmean\u001b[0m\u001b[0;34m(\u001b[0m\u001b[0;34m)\u001b[0m \u001b[0;34m*\u001b[0m \u001b[0;36m0.1\u001b[0m\u001b[0;34m\u001b[0m\u001b[0m\n",
      "\u001b[0;32m/opt/conda/lib/python3.6/site-packages/scipy/spatial/distance.py\u001b[0m in \u001b[0;36mcdist\u001b[0;34m(XA, XB, metric, *args, **kwargs)\u001b[0m\n\u001b[1;32m   2369\u001b[0m         \u001b[0;32mraise\u001b[0m \u001b[0mValueError\u001b[0m\u001b[0;34m(\u001b[0m\u001b[0;34m'XA must be a 2-dimensional array.'\u001b[0m\u001b[0;34m)\u001b[0m\u001b[0;34m\u001b[0m\u001b[0m\n\u001b[1;32m   2370\u001b[0m     \u001b[0;32mif\u001b[0m \u001b[0mlen\u001b[0m\u001b[0;34m(\u001b[0m\u001b[0msB\u001b[0m\u001b[0;34m)\u001b[0m \u001b[0;34m!=\u001b[0m \u001b[0;36m2\u001b[0m\u001b[0;34m:\u001b[0m\u001b[0;34m\u001b[0m\u001b[0m\n\u001b[0;32m-> 2371\u001b[0;31m         \u001b[0;32mraise\u001b[0m \u001b[0mValueError\u001b[0m\u001b[0;34m(\u001b[0m\u001b[0;34m'XB must be a 2-dimensional array.'\u001b[0m\u001b[0;34m)\u001b[0m\u001b[0;34m\u001b[0m\u001b[0m\n\u001b[0m\u001b[1;32m   2372\u001b[0m     \u001b[0;32mif\u001b[0m \u001b[0ms\u001b[0m\u001b[0;34m[\u001b[0m\u001b[0;36m1\u001b[0m\u001b[0;34m]\u001b[0m \u001b[0;34m!=\u001b[0m \u001b[0msB\u001b[0m\u001b[0;34m[\u001b[0m\u001b[0;36m1\u001b[0m\u001b[0;34m]\u001b[0m\u001b[0;34m:\u001b[0m\u001b[0;34m\u001b[0m\u001b[0m\n\u001b[1;32m   2373\u001b[0m         raise ValueError('XA and XB must have the same number of columns '\n",
      "\u001b[0;31mValueError\u001b[0m: XB must be a 2-dimensional array."
     ]
    }
   ],
   "source": [
    "all_dists = cdist(X, X[0])\n",
    "r = dists.mean() * 0.1"
   ]
  },
  {
   "cell_type": "code",
   "execution_count": 48,
   "metadata": {},
   "outputs": [],
   "source": [
    "cluster_1 = X[:3]\n",
    "working_dist = cdist(X, cluster_1)"
   ]
  },
  {
   "cell_type": "code",
   "execution_count": 51,
   "metadata": {},
   "outputs": [],
   "source": [
    "working_cluster = working_dist.min(axis=1) < r"
   ]
  },
  {
   "cell_type": "code",
   "execution_count": 55,
   "metadata": {},
   "outputs": [
    {
     "data": {
      "text/plain": [
       "True"
      ]
     },
     "execution_count": 55,
     "metadata": {},
     "output_type": "execute_result"
    }
   ],
   "source": [
    "np.array_equal(cluster_1, cluster_1)"
   ]
  },
  {
   "cell_type": "code",
   "execution_count": 105,
   "metadata": {},
   "outputs": [],
   "source": [
    "class DBScanScratch:\n",
    "    def __init__(self):\n",
    "        self.r = None\n",
    "        self.cluster_labels = None\n",
    "        self.assigned_clusters = None\n",
    "\n",
    "    \n",
    "    def fit(self, X):\n",
    "        all_dists = cdist(X, X)\n",
    "        self.r = dists.mean() * 0.1 # set radius for dbscan search. make this a tunable parameter\n",
    "        \n",
    "        # set all observations in X to cluster == 0, i.e. unclustered\n",
    "        self.assigned_clusters = np.zeros(X.shape[0])\n",
    "                        \n",
    "        current_cluster = 1 # start with cluster 1\n",
    "        \n",
    "        while np.any(self.assigned_clusters == 0): # while unclustered entries exist\n",
    "            print(\"working on cluster\", current_cluster)\n",
    "            \n",
    "            # pick a random starting point\n",
    "            X_unclustered = X[self.assigned_clusters == 0]\n",
    "            starting_point = X_unclustered[np.random.choice(X_unclustered.shape[0])] \n",
    "            \n",
    "            #cdist function needs starting_point to be 2d; this is a hacky work around\n",
    "            starting_point = np.array([starting_point, starting_point])\n",
    "            \n",
    "            bool_cluster = self.scan(X, starting_point)\n",
    "            self.assigned_clusters += bool_cluster * current_cluster\n",
    "            \n",
    "            current_cluster += 1 # increment current cluster\n",
    "            \n",
    "        self.cluster_labels = np.array(set(self.assigned_clusters))\n",
    "    \n",
    "    def scan(self, X, working_cluster):\n",
    "        print(working_cluster.shape)\n",
    "        scan_dist = cdist(X, working_cluster) #measure distance between all X observation and clustered observations\n",
    "        closest_scan = scan_dist.min(axis=1) # get shortest measured distance\n",
    "        within_scan = closest_scan <= self.r # bool array of observations of X who are within r, i.e the cluster\n",
    "        \n",
    "        updated_working_cluster = X[within_scan]\n",
    "        \n",
    "        if not np.array_equal(working_cluster, updated_working_cluster):\n",
    "            within_scan = np.add(within_scan, self.scan(X, updated_working_cluster))\n",
    "            \n",
    "        return within_scan\n"
   ]
  },
  {
   "cell_type": "code",
   "execution_count": 106,
   "metadata": {},
   "outputs": [],
   "source": [
    "dbs_scratch = DBScanScratch()"
   ]
  },
  {
   "cell_type": "code",
   "execution_count": 107,
   "metadata": {
    "scrolled": false
   },
   "outputs": [
    {
     "name": "stdout",
     "output_type": "stream",
     "text": [
      "working on cluster 1\n",
      "(2, 2)\n",
      "(39, 2)\n",
      "(77, 2)\n",
      "(115, 2)\n",
      "(153, 2)\n",
      "(191, 2)\n",
      "(229, 2)\n",
      "(267, 2)\n",
      "(303, 2)\n",
      "(322, 2)\n",
      "(341, 2)\n",
      "(360, 2)\n",
      "(379, 2)\n",
      "(398, 2)\n",
      "(417, 2)\n",
      "(436, 2)\n",
      "(455, 2)\n",
      "(474, 2)\n",
      "(493, 2)\n",
      "(500, 2)\n",
      "working on cluster 2\n",
      "(2, 2)\n",
      "(39, 2)\n",
      "(77, 2)\n",
      "(115, 2)\n",
      "(151, 2)\n",
      "(170, 2)\n",
      "(189, 2)\n",
      "(208, 2)\n",
      "(227, 2)\n",
      "(246, 2)\n",
      "(265, 2)\n",
      "(284, 2)\n",
      "(303, 2)\n",
      "(322, 2)\n",
      "(341, 2)\n",
      "(360, 2)\n",
      "(379, 2)\n",
      "(398, 2)\n",
      "(417, 2)\n",
      "(436, 2)\n",
      "(455, 2)\n",
      "(474, 2)\n",
      "(493, 2)\n",
      "(500, 2)\n"
     ]
    }
   ],
   "source": [
    "dbs_scratch.fit(X)"
   ]
  },
  {
   "cell_type": "code",
   "execution_count": 109,
   "metadata": {},
   "outputs": [],
   "source": [
    "moons_df['assigned'] = dbs_scratch.assigned_clusters"
   ]
  },
  {
   "cell_type": "code",
   "execution_count": 110,
   "metadata": {},
   "outputs": [
    {
     "data": {
      "text/plain": [
       "<matplotlib.axes._subplots.AxesSubplot at 0x7f3a51a31be0>"
      ]
     },
     "execution_count": 110,
     "metadata": {},
     "output_type": "execute_result"
    },
    {
     "data": {
      "image/png": "[encoded data removed]",
      "text/plain": [
       "<matplotlib.figure.Figure at 0x7f3a51a31860>"
      ]
     },
     "metadata": {},
     "output_type": "display_data"
    }
   ],
   "source": [
    "moons_df.plot.scatter(x='feature_0', y='feature_1', c='assigned')"
   ]
  },
  {
   "cell_type": "code",
   "execution_count": null,
   "metadata": {},
   "outputs": [],
   "source": []
  }
 ],
 "metadata": {
  "kernelspec": {
   "display_name": "Python 3",
   "language": "python",
   "name": "python3"
  },
  "language_info": {
   "codemirror_mode": {
    "name": "ipython",
    "version": 3
   },
   "file_extension": ".py",
   "mimetype": "text/x-python",
   "name": "python",
   "nbconvert_exporter": "python",
   "pygments_lexer": "ipython3",
   "version": "3.6.2"
  }
 },
 "nbformat": 4,
 "nbformat_minor": 2
}
