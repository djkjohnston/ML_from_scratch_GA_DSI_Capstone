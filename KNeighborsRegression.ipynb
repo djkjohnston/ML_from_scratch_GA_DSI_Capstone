{
 "cells": [
  {
   "cell_type": "code",
   "execution_count": 1,
   "metadata": {},
   "outputs": [],
   "source": [
    "import numpy as np\n",
    "from sklearn.datasets import load_boston\n",
    "import pandas as pd\n",
    "from scipy.spatial.distance import cdist"
   ]
  },
  {
   "cell_type": "code",
   "execution_count": 2,
   "metadata": {},
   "outputs": [],
   "source": [
    "X, y = load_boston(return_X_y=True)"
   ]
  },
  {
   "cell_type": "code",
   "execution_count": 3,
   "metadata": {},
   "outputs": [],
   "source": [
    "from sklearn.model_selection import train_test_split"
   ]
  },
  {
   "cell_type": "code",
   "execution_count": 4,
   "metadata": {},
   "outputs": [],
   "source": [
    "X_train, X_test, y_train, y_test = train_test_split(X, y, test_size = 0.25, random_state = 42)"
   ]
  },
  {
   "cell_type": "code",
   "execution_count": 5,
   "metadata": {},
   "outputs": [
    {
     "data": {
      "text/plain": [
       "numpy.ndarray"
      ]
     },
     "execution_count": 5,
     "metadata": {},
     "output_type": "execute_result"
    }
   ],
   "source": [
    "tmp = X_train - X_test[0]\n",
    "type(X_train)"
   ]
  },
  {
   "cell_type": "code",
   "execution_count": 6,
   "metadata": {},
   "outputs": [
    {
     "data": {
      "text/plain": [
       "array([ 28.5 ,  15.12,  30.8 ,  28.5 ,  21.1 ,  18.4 ,  18.58,  18.78,\n",
       "        11.18,  23.34,  41.56,  34.16,  19.82,  17.9 ,  22.68,  22.74,\n",
       "        20.96,  15.26,  26.84,  19.3 ,  15.36,  18.88,  22.12,  11.18,\n",
       "        15.36,  23.98,  18.58,  20.76,  25.34,  22.18,  28.84,  23.34,\n",
       "        10.16,  27.  ,  26.96,  21.72,  22.46,  27.58,  20.58,  21.64,\n",
       "        15.06,  18.82,  18.04,  18.58,  20.28,  23.36,  19.82,  21.82,\n",
       "        19.48,  18.58,  24.94,  21.56,  27.7 ,  17.78,  12.58,  13.64,\n",
       "        22.04,  30.96,  19.82,  11.86,  18.58,  23.92,  23.4 ,  24.48,\n",
       "        18.7 ,  20.28,  13.64,  10.94,  34.16,  23.58,  20.28,  15.26,\n",
       "        18.14,  30.14,  20.22,  19.58,  25.8 ,  28.46,  18.32,  18.14,\n",
       "        18.98,  22.68,  23.1 ,  21.1 ,  21.1 ,  14.46,  21.94,  18.58,\n",
       "        30.98,  21.16,  22.84,  16.76,  12.56,  25.3 ,  21.64,  22.22,\n",
       "        10.94,  16.06,  22.34,  22.74,  18.58,  23.02,  21.1 ,  23.88,\n",
       "        10.94,  27.54,  18.58,  22.72,  21.64,  19.98,  26.62,  20.82,\n",
       "        28.46,  18.78,  19.92,  20.24,  14.08,  28.5 ,  19.6 ,  18.04,\n",
       "        15.54,  20.28,  26.68,  23.4 ,  19.6 ,  18.14,  15.78,  22.68,\n",
       "        23.36,  21.74,  13.64,  18.14,  14.08,  18.98,  11.18,  22.76,\n",
       "        28.5 ,  13.9 ,  22.34,  17.78,  23.38,  30.96,  21.76,  38.64,\n",
       "        28.5 ,  28.5 ,  22.74,  22.54,  24.42,  20.98,  21.74,  11.98,\n",
       "        17.32,  41.56,  28.5 ,  27.7 ,  19.58,  15.54,  20.96,  18.58,\n",
       "        11.86,  38.64,  23.46,  10.94,  22.84,  18.88,  22.06,  22.46,\n",
       "        17.4 ,  12.68,  18.58,  30.32,  25.3 ,  20.88,  23.34,  22.84,\n",
       "        11.86,  23.3 ,  19.82,  18.98,  18.58,  21.74,  21.64,  22.22,\n",
       "        18.66,  27.  ,  21.94,  22.12,  20.42,  23.98,  18.58,  23.82,\n",
       "        13.66,  20.28,  10.56,  15.26,  18.58,  14.76,  20.76,  21.1 ,\n",
       "        22.74,  38.64,  24.64,  24.22,  30.32,  11.86,  18.78,  24.  ,\n",
       "        22.34,  18.88,  18.7 ,  17.78,  22.04,  20.98,  18.88,  23.38,\n",
       "        30.56,  23.38,  22.7 ,  13.64,  20.24,  22.46,  12.56,  21.24,\n",
       "        23.24,  24.98,  22.6 ,  12.76,  23.2 ,  41.56,  22.04,  20.28,\n",
       "        23.1 ,  11.18,  23.4 ,  13.56,  18.78,  23.4 ,  38.64,  23.36,\n",
       "        20.74,  29.22,  15.86,  29.52,  22.46,  22.68,  22.7 ,  17.78,\n",
       "        16.06,  23.3 ,  26.34,  24.64,  18.88,  12.68,  18.58,  26.96,\n",
       "        18.58,  18.58,  18.88,  18.04,  23.4 ,  22.84,  28.  ,  22.68,\n",
       "        21.18,  15.12,  38.94,  12.56,  20.88,  15.26,  22.72,  24.38,\n",
       "        12.58,  20.82,  23.98,  22.12,  21.92,  22.72,  23.4 ,  18.88,\n",
       "        25.44,  21.1 ,  22.84,  21.16,  19.76,  27.7 ,  22.74,  20.34,\n",
       "        22.46,  20.82,  12.58,  21.56,  20.42,  21.64,  20.28,  26.34,\n",
       "        14.08,  25.22,  15.26,  17.32,  24.26,  14.46,  28.66,  23.96,\n",
       "        15.86,  11.18,  21.64,  12.76,  15.26,  21.92,  21.04,  16.94,\n",
       "        26.4 ,  20.1 ,  21.64,  21.  ,  21.82,  20.42,  21.34,  10.94,\n",
       "        24.98,  19.64,  21.1 ,  20.62,  18.7 ,  30.8 ,  18.88,  21.1 ,\n",
       "        24.44,  18.8 ,  24.48,  27.8 ,  16.76,  20.8 ,  13.22,  21.68,\n",
       "        21.34,  16.76,  21.68,  19.3 ,  24.7 ,  27.54,  21.22,  24.38,\n",
       "        23.2 ,  19.82,  20.42,  18.88,  20.22,  31.  ,  15.36,  21.56,\n",
       "        12.58,  25.62,  16.46,  20.8 ,  26.34,  20.42,  18.78,  18.58,\n",
       "        18.78,  18.88,  21.54,  24.48,  24.64,  15.54,  21.1 ,  24.62,\n",
       "        13.56,  28.5 ,  21.34,  15.54,  21.56,  25.3 ,  20.28,  23.34,\n",
       "        30.98,  14.76,  16.48])"
      ]
     },
     "execution_count": 6,
     "metadata": {},
     "output_type": "execute_result"
    }
   ],
   "source": [
    "test_cdist = cdist(X_train, X_test)\n",
    "# print(test_cdist.shape)\n",
    "# test_cdist = test_cdist.argsort(axis=-1)\n",
    "test_cdist = test_cdist.argsort()\n",
    "np.mean(y_test[test_cdist][:,:5], axis=1)"
   ]
  },
  {
   "cell_type": "code",
   "execution_count": 7,
   "metadata": {},
   "outputs": [
    {
     "name": "stdout",
     "output_type": "stream",
     "text": [
      "2.84 ms ± 93.3 µs per loop (mean ± std. dev. of 7 runs, 100 loops each)\n"
     ]
    }
   ],
   "source": [
    "%%timeit\n",
    "for x in X_test:\n",
    "    diff = X_train - x\n",
    "    dist = np.linalg.norm(diff, axis=1)"
   ]
  },
  {
   "cell_type": "code",
   "execution_count": 8,
   "metadata": {},
   "outputs": [
    {
     "data": {
      "text/plain": [
       "array([   0.,    0.,    4.,    0.,    0.,    6.,   84.,    2.,    5.,\n",
       "        296.,   16.,  395.,    9.])"
      ]
     },
     "execution_count": 8,
     "metadata": {},
     "output_type": "execute_result"
    }
   ],
   "source": [
    "np.trunc(X_test[0])"
   ]
  },
  {
   "cell_type": "code",
   "execution_count": 9,
   "metadata": {},
   "outputs": [
    {
     "ename": "NameError",
     "evalue": "name 'tmp_dist' is not defined",
     "output_type": "error",
     "traceback": [
      "\u001b[0;31m\u001b[0m",
      "\u001b[0;31mNameError\u001b[0mTraceback (most recent call last)",
      "\u001b[0;32m<ipython-input-9-aa0f6c8d4f18>\u001b[0m in \u001b[0;36m<module>\u001b[0;34m()\u001b[0m\n\u001b[0;32m----> 1\u001b[0;31m \u001b[0mlen\u001b[0m\u001b[0;34m(\u001b[0m\u001b[0mtmp_dist\u001b[0m\u001b[0;34m)\u001b[0m\u001b[0;34m\u001b[0m\u001b[0m\n\u001b[0m",
      "\u001b[0;31mNameError\u001b[0m: name 'tmp_dist' is not defined"
     ]
    }
   ],
   "source": [
    "len(tmp_dist)"
   ]
  },
  {
   "cell_type": "code",
   "execution_count": 10,
   "metadata": {},
   "outputs": [],
   "source": [
    "class KNeighborsRegressionML:\n",
    "    def __init__(self, k=5):\n",
    "        self.k = k\n",
    "        self.X_train = None\n",
    "        self.y_train = None\n",
    "        \n",
    "    def fit(self, X, y):\n",
    "        self.X_train = X\n",
    "        self.y_train = y\n",
    "    \n",
    "    def predict(self, Xnew):\n",
    "        #for every new observation, measure the distance to each known point\n",
    "\n",
    "        dist = cdist(Xnew, self.X_train)\n",
    "        dist = dist.argsort()\n",
    "        preds = np.mean(y_train[dist][:,:self.k], axis=1)\n",
    "\n",
    "        return(preds)\n",
    "    \n",
    "    #     Scoring\n",
    "    def score(self, X, y):\n",
    "        n = len(y)\n",
    "        y_pred = self.predict(X)\n",
    "        \n",
    "        y_bar = np.mean(y)\n",
    "        total_sum_square = np.sum((y - y_bar)**2)\n",
    "        resid_sum_square = np.sum((y - y_pred)**2)\n",
    "        \n",
    "        r_square = 1 - (resid_sum_square / total_sum_square)\n",
    "        return r_square"
   ]
  },
  {
   "cell_type": "code",
   "execution_count": 11,
   "metadata": {},
   "outputs": [],
   "source": [
    "knr = KNeighborsRegressionML()"
   ]
  },
  {
   "cell_type": "code",
   "execution_count": 12,
   "metadata": {},
   "outputs": [],
   "source": [
    "knr.fit(X_train, y_train)"
   ]
  },
  {
   "cell_type": "code",
   "execution_count": 13,
   "metadata": {},
   "outputs": [],
   "source": [
    "pred = knr.predict(X_test)"
   ]
  },
  {
   "cell_type": "code",
   "execution_count": 14,
   "metadata": {},
   "outputs": [
    {
     "data": {
      "text/plain": [
       "(127,)"
      ]
     },
     "execution_count": 14,
     "metadata": {},
     "output_type": "execute_result"
    }
   ],
   "source": [
    "pred.shape"
   ]
  },
  {
   "cell_type": "code",
   "execution_count": 15,
   "metadata": {},
   "outputs": [],
   "source": [
    "# %%timeit\n",
    "knr_score = knr.score(X_test, y_test)"
   ]
  },
  {
   "cell_type": "code",
   "execution_count": 16,
   "metadata": {},
   "outputs": [],
   "source": [
    "from sklearn.neighbors import KNeighborsRegressor"
   ]
  },
  {
   "cell_type": "code",
   "execution_count": 17,
   "metadata": {},
   "outputs": [],
   "source": [
    "skl_knn = KNeighborsRegressor(n_neighbors=5)"
   ]
  },
  {
   "cell_type": "code",
   "execution_count": 18,
   "metadata": {},
   "outputs": [
    {
     "data": {
      "text/plain": [
       "KNeighborsRegressor(algorithm='auto', leaf_size=30, metric='minkowski',\n",
       "          metric_params=None, n_jobs=1, n_neighbors=5, p=2,\n",
       "          weights='uniform')"
      ]
     },
     "execution_count": 18,
     "metadata": {},
     "output_type": "execute_result"
    }
   ],
   "source": [
    "skl_knn.fit(X_train, y_train)"
   ]
  },
  {
   "cell_type": "code",
   "execution_count": 19,
   "metadata": {},
   "outputs": [],
   "source": [
    "# %%timeit\n",
    "skl_score = skl_knn.score(X_test, y_test)"
   ]
  },
  {
   "cell_type": "code",
   "execution_count": 20,
   "metadata": {},
   "outputs": [
    {
     "data": {
      "text/plain": [
       "(0.639665439953224, 0.639665439953224)"
      ]
     },
     "execution_count": 20,
     "metadata": {},
     "output_type": "execute_result"
    }
   ],
   "source": [
    "knr_score, skl_score"
   ]
  },
  {
   "cell_type": "code",
   "execution_count": null,
   "metadata": {},
   "outputs": [],
   "source": []
  }
 ],
 "metadata": {
  "kernelspec": {
   "display_name": "Python 3",
   "language": "python",
   "name": "python3"
  },
  "language_info": {
   "codemirror_mode": {
    "name": "ipython",
    "version": 3
   },
   "file_extension": ".py",
   "mimetype": "text/x-python",
   "name": "python",
   "nbconvert_exporter": "python",
   "pygments_lexer": "ipython3",
   "version": "3.6.2"
  }
 },
 "nbformat": 4,
 "nbformat_minor": 2
}
