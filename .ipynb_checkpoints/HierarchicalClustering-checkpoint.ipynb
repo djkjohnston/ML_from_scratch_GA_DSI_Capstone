{
 "cells": [
  {
   "cell_type": "code",
   "execution_count": 1,
   "metadata": {},
   "outputs": [],
   "source": [
    "import numpy as np\n",
    "from sklearn.datasets import make_blobs\n",
    "import pandas as pd\n",
    "from scipy.spatial.distance import cdist\n",
    "%matplotlib inline"
   ]
  },
  {
   "cell_type": "code",
   "execution_count": 2,
   "metadata": {},
   "outputs": [],
   "source": [
    "blobs = make_blobs(n_samples=10, n_features=2, centers=5, random_state=42)"
   ]
  },
  {
   "cell_type": "code",
   "execution_count": 3,
   "metadata": {},
   "outputs": [],
   "source": [
    "X = blobs[0]\n",
    "y= blobs[1]"
   ]
  },
  {
   "cell_type": "code",
   "execution_count": 4,
   "metadata": {},
   "outputs": [],
   "source": [
    "feature_names = ['feature_'+str(i) for i in range(X.shape[1])]\n"
   ]
  },
  {
   "cell_type": "code",
   "execution_count": 5,
   "metadata": {},
   "outputs": [],
   "source": [
    "blobs_df = pd.DataFrame(X, columns = feature_names)\n",
    "blobs_df['class'] = y"
   ]
  },
  {
   "cell_type": "code",
   "execution_count": 6,
   "metadata": {},
   "outputs": [
    {
     "data": {
      "text/html": [
       "<div>\n",
       "<table border=\"1\" class=\"dataframe\">\n",
       "  <thead>\n",
       "    <tr style=\"text-align: right;\">\n",
       "      <th></th>\n",
       "      <th>feature_0</th>\n",
       "      <th>feature_1</th>\n",
       "      <th>class</th>\n",
       "    </tr>\n",
       "  </thead>\n",
       "  <tbody>\n",
       "    <tr>\n",
       "      <th>0</th>\n",
       "      <td>4.881841</td>\n",
       "      <td>0.059889</td>\n",
       "      <td>1</td>\n",
       "    </tr>\n",
       "    <tr>\n",
       "      <th>1</th>\n",
       "      <td>-7.787651</td>\n",
       "      <td>-8.292413</td>\n",
       "      <td>2</td>\n",
       "    </tr>\n",
       "    <tr>\n",
       "      <th>2</th>\n",
       "      <td>0.871307</td>\n",
       "      <td>4.537150</td>\n",
       "      <td>4</td>\n",
       "    </tr>\n",
       "    <tr>\n",
       "      <th>3</th>\n",
       "      <td>-7.892458</td>\n",
       "      <td>-6.565862</td>\n",
       "      <td>2</td>\n",
       "    </tr>\n",
       "    <tr>\n",
       "      <th>4</th>\n",
       "      <td>1.477918</td>\n",
       "      <td>4.272374</td>\n",
       "      <td>4</td>\n",
       "    </tr>\n",
       "  </tbody>\n",
       "</table>\n",
       "</div>"
      ],
      "text/plain": [
       "   feature_0  feature_1  class\n",
       "0   4.881841   0.059889      1\n",
       "1  -7.787651  -8.292413      2\n",
       "2   0.871307   4.537150      4\n",
       "3  -7.892458  -6.565862      2\n",
       "4   1.477918   4.272374      4"
      ]
     },
     "execution_count": 6,
     "metadata": {},
     "output_type": "execute_result"
    }
   ],
   "source": [
    "blobs_df.head()"
   ]
  },
  {
   "cell_type": "code",
   "execution_count": 7,
   "metadata": {},
   "outputs": [
    {
     "data": {
      "text/plain": [
       "<matplotlib.axes._subplots.AxesSubplot at 0x7ff71be385c0>"
      ]
     },
     "execution_count": 7,
     "metadata": {},
     "output_type": "execute_result"
    },
    {
     "data": {
      "image/png": "[encoded data removed]",
      "text/plain": [
       "<matplotlib.figure.Figure at 0x7ff71be77fd0>"
      ]
     },
     "metadata": {},
     "output_type": "display_data"
    }
   ],
   "source": [
    "blobs_df.plot.scatter(x='feature_0', y='feature_1', c='class', cmap='Set1')"
   ]
  },
  {
   "cell_type": "code",
   "execution_count": 63,
   "metadata": {},
   "outputs": [],
   "source": [
    "dists = cdist(X, X)"
   ]
  },
  {
   "cell_type": "code",
   "execution_count": 64,
   "metadata": {},
   "outputs": [],
   "source": [
    "np.fill_diagonal(dists, np.nan)"
   ]
  },
  {
   "cell_type": "code",
   "execution_count": 65,
   "metadata": {},
   "outputs": [],
   "source": [
    "clusters = list(range(len(X)))"
   ]
  },
  {
   "cell_type": "code",
   "execution_count": 66,
   "metadata": {},
   "outputs": [],
   "source": [
    "max_dist = dists.max()"
   ]
  },
  {
   "cell_type": "code",
   "execution_count": 67,
   "metadata": {},
   "outputs": [],
   "source": [
    "flat_dists = dists.flatten()"
   ]
  },
  {
   "cell_type": "code",
   "execution_count": 68,
   "metadata": {
    "scrolled": true
   },
   "outputs": [],
   "source": [
    "flat_dists.sort()"
   ]
  },
  {
   "cell_type": "code",
   "execution_count": 69,
   "metadata": {},
   "outputs": [
    {
     "data": {
      "text/plain": [
       "array([  0.6618782 ,   0.6618782 ,   1.00830799,   1.00830799,\n",
       "         1.72972917,   1.72972917,   1.84181288,   1.84181288,\n",
       "         2.3861682 ,   2.3861682 ,   3.20206659,   3.20206659,\n",
       "         3.73497939,   3.73497939,   4.63307773,   4.63307773,\n",
       "         5.03532203,   5.03532203,   5.41587696,   5.41587696,\n",
       "         5.55581863,   5.55581863,   6.01084394,   6.01084394,\n",
       "         6.17195082,   6.17195082,   6.32611173,   6.32611173,\n",
       "         6.37497319,   6.37497319,   6.85056408,   6.85056408,\n",
       "         6.91280223,   6.91280223,   8.63249422,   8.63249422,\n",
       "         9.25256441,   9.25256441,   9.29062904,   9.29062904,\n",
       "         9.73777363,   9.73777363,  10.05443384,  10.05443384,\n",
       "        10.37696392,  10.37696392,  11.56503143,  11.56503143,\n",
       "        11.75482726,  11.75482726,  12.32801094,  12.32801094,\n",
       "        12.49554555,  12.49554555,  12.51791434,  12.51791434,\n",
       "        13.43237744,  13.43237744,  13.6734918 ,  13.6734918 ,\n",
       "        14.13169121,  14.13169121,  14.14497961,  14.14497961,\n",
       "        14.22520292,  14.22520292,  14.32729254,  14.32729254,\n",
       "        14.39038954,  14.39038954,  14.44644773,  14.44644773,\n",
       "        14.84881067,  14.84881067,  15.17488049,  15.17488049,\n",
       "        15.39575344,  15.39575344,  15.47821811,  15.47821811,\n",
       "        15.61168307,  15.61168307,  15.89498367,  15.89498367,\n",
       "        16.85488128,  16.85488128,  17.51578804,  17.51578804,\n",
       "        18.48573355,  18.48573355,          nan,          nan,\n",
       "                nan,          nan,          nan,          nan,\n",
       "                nan,          nan,          nan,          nan])"
      ]
     },
     "execution_count": 69,
     "metadata": {},
     "output_type": "execute_result"
    }
   ],
   "source": [
    "flat_dists"
   ]
  },
  {
   "cell_type": "code",
   "execution_count": 70,
   "metadata": {},
   "outputs": [
    {
     "data": {
      "text/plain": [
       "array([  0.6618782 ,   1.00830799,   1.72972917,   1.84181288,\n",
       "         2.3861682 ,   3.20206659,   3.73497939,   4.63307773,\n",
       "         5.03532203,   5.41587696,   5.55581863,   6.01084394,\n",
       "         6.17195082,   6.32611173,   6.37497319,   6.85056408,\n",
       "         6.91280223,   8.63249422,   9.25256441,   9.29062904,\n",
       "         9.73777363,  10.05443384,  10.37696392,  11.56503143,\n",
       "        11.75482726,  12.32801094,  12.49554555,  12.51791434,\n",
       "        13.43237744,  13.6734918 ,  14.13169121,  14.14497961,\n",
       "        14.22520292,  14.32729254,  14.39038954,  14.44644773,\n",
       "        14.84881067,  15.17488049,  15.39575344,  15.47821811,\n",
       "        15.61168307,  15.89498367,  16.85488128,  17.51578804,  18.48573355])"
      ]
     },
     "execution_count": 70,
     "metadata": {},
     "output_type": "execute_result"
    }
   ],
   "source": [
    "#every pairwise distance between points will appear twice (a->b, b->a). \n",
    "#This removes the doubles but preserves any cases where the same distance incidentally occures\n",
    "flat_length = len(flat_dists)\n",
    "flat_length = range(len(flat_dists))\n",
    "flat_length = list(flat_length)[0::2]\n",
    "flat_dists = flat_dists[flat_length]\n",
    "flat_dists = flat_dists[~np.isnan(flat_dists)]\n",
    "flat_dists"
   ]
  },
  {
   "cell_type": "code",
   "execution_count": 75,
   "metadata": {},
   "outputs": [
    {
     "name": "stdout",
     "output_type": "stream",
     "text": [
      "2\n",
      "4\n",
      "4\n",
      "2\n"
     ]
    }
   ],
   "source": [
    "for X_i in np.where(dists==flat_dists[0]):\n",
    "    print(X_i[0])\n",
    "    print(X_i[1])"
   ]
  },
  {
   "cell_type": "code",
   "execution_count": 42,
   "metadata": {},
   "outputs": [
    {
     "data": {
      "text/plain": [
       "4"
      ]
     },
     "execution_count": 42,
     "metadata": {},
     "output_type": "execute_result"
    }
   ],
   "source": [
    "temp_index[0][1]"
   ]
  },
  {
   "cell_type": "code",
   "execution_count": 137,
   "metadata": {},
   "outputs": [],
   "source": [
    "class HierarchicalClusterScratch():\n",
    "    def __init__(self):\n",
    "        self.dist_matrix = None # holds distance matrix\n",
    "        self.dist_queue = None # holds flattened distance matrix, used as a queue for clustering\n",
    "        self.cluster_hist = None # holds the history of cluster assignment\n",
    "\n",
    "    def fit(self, X):\n",
    "        # instantiate some things\n",
    "        self.__init_dists(X) # distances\n",
    "        \n",
    "#         print(self.dist_matrix)\n",
    "#         print(self.dist_queue)\n",
    "        \n",
    "        working_clusters = list(range(len(X))) # each entry in X is assigned a unique cluster \n",
    "        self.cluster_hist = [] # cluster history\n",
    "        self.cluster_hist.append(working_clusters.copy()) #store original state in cluster_history\n",
    "        \n",
    "#         print(self.dist_queue)\n",
    "        \n",
    "        for dist_i in self.dist_queue:\n",
    "            # check if all assigned clusters are the same\n",
    "            if len(set(working_clusters)) == 1:\n",
    "                break\n",
    "            \n",
    "            #identify the observation in X that have dist_i.\n",
    "            # Take every other entry since you will get [2,4] and [4,2] \n",
    "            # but want to be robust against cases were multiple distances have the same value\n",
    "            indexes_to_be_clustered = np.where(self.dist_matrix==dist_i)[0::2]\n",
    "            \n",
    "            for X_i in indexes_to_be_clustered:\n",
    "#                 print(working_clusters)\n",
    "#                 print(X_i)\n",
    "                obs_a = X_i[0]\n",
    "                obs_b = X_i[1]\n",
    "                \n",
    "                cluster_a = working_clusters[obs_a]\n",
    "                cluster_b = working_clusters[obs_b]\n",
    "                \n",
    "                count_a = working_clusters.count(cluster_a)\n",
    "                count_b = working_clusters.count(cluster_b)\n",
    "                \n",
    "                # group smaller cluster into the larger. \n",
    "                # If they are of equal size, group cluster_a into cluster_b\n",
    "                if count_a > count_b:\n",
    "                    working_clusters[obs_b] = cluster_a\n",
    "                else:\n",
    "                    working_clusters[obs_a] = cluster_b\n",
    "                self.cluster_hist.append(working_clusters.copy())      \n",
    "\n",
    "        \n",
    "    def __init_dists(self, X):\n",
    "        # set distance matrix\n",
    "        tmp_dist = cdist(X, X)\n",
    "        np.fill_diagonal(tmp_dist, np.nan) #np.fill_diagonal works IN PLACE\n",
    "        self.dist_matrix = tmp_dist.copy()\n",
    "        \n",
    "        # set flat_dist\n",
    "        flat_dists = dists.flatten() #flatten\n",
    "        flat_dists.sort() # sort in place\n",
    "        \n",
    "        #every pairwise distance between points will appear twice (a->b, b->a). \n",
    "        #This removes the doubles but preserves any cases where the same distance incidentally occures\n",
    "        flat_length = len(flat_dists)\n",
    "        flat_length = range(len(flat_dists))\n",
    "        flat_length = list(flat_length)[0::2]\n",
    "        flat_dists = flat_dists[flat_length]\n",
    "        \n",
    "        flat_dists = flat_dists[~np.isnan(flat_dists)] # remove np.nans \n",
    "        self.dist_queue = flat_dists # should i use list?\n",
    "        \n"
   ]
  },
  {
   "cell_type": "code",
   "execution_count": 138,
   "metadata": {},
   "outputs": [],
   "source": [
    "hc_scratch = HierarchicalClusterScratch()"
   ]
  },
  {
   "cell_type": "code",
   "execution_count": 139,
   "metadata": {},
   "outputs": [],
   "source": [
    "hc_scratch.fit(X)"
   ]
  },
  {
   "cell_type": "code",
   "execution_count": 140,
   "metadata": {},
   "outputs": [],
   "source": [
    "history = hc_scratch.cluster_hist"
   ]
  },
  {
   "cell_type": "code",
   "execution_count": 141,
   "metadata": {},
   "outputs": [
    {
     "data": {
      "text/plain": [
       "[[0, 1, 2, 3, 4, 5, 6, 7, 8, 9],\n",
       " [0, 1, 4, 3, 4, 5, 6, 7, 8, 9],\n",
       " [0, 1, 4, 3, 4, 5, 8, 7, 8, 9],\n",
       " [0, 3, 4, 3, 4, 5, 8, 7, 8, 9],\n",
       " [0, 3, 4, 3, 4, 9, 8, 7, 8, 9],\n",
       " [7, 3, 4, 3, 4, 9, 8, 7, 8, 9],\n",
       " [7, 3, 4, 3, 7, 9, 8, 7, 8, 9],\n",
       " [7, 3, 7, 3, 7, 9, 8, 7, 8, 9],\n",
       " [7, 3, 7, 3, 7, 9, 8, 7, 9, 9],\n",
       " [7, 3, 7, 3, 7, 9, 9, 7, 9, 9],\n",
       " [7, 3, 7, 3, 7, 9, 9, 7, 9, 9],\n",
       " [7, 3, 9, 3, 7, 9, 9, 7, 9, 9],\n",
       " [9, 3, 9, 3, 7, 9, 9, 7, 9, 9],\n",
       " [9, 3, 9, 3, 9, 9, 9, 7, 9, 9],\n",
       " [9, 3, 9, 3, 9, 9, 9, 7, 9, 9],\n",
       " [9, 3, 9, 3, 9, 9, 9, 7, 9, 9],\n",
       " [9, 3, 9, 3, 9, 9, 9, 7, 9, 9],\n",
       " [9, 3, 9, 3, 9, 9, 9, 7, 9, 9],\n",
       " [9, 3, 9, 3, 9, 9, 9, 7, 9, 9],\n",
       " [9, 3, 9, 3, 9, 9, 9, 9, 9, 9],\n",
       " [9, 3, 9, 3, 9, 9, 9, 9, 9, 9],\n",
       " [9, 3, 9, 3, 9, 9, 9, 9, 9, 9],\n",
       " [9, 3, 9, 3, 9, 9, 9, 9, 9, 9],\n",
       " [9, 3, 9, 3, 9, 9, 9, 9, 9, 9],\n",
       " [9, 3, 9, 3, 9, 9, 9, 9, 9, 9],\n",
       " [9, 3, 9, 3, 9, 9, 9, 9, 9, 9],\n",
       " [9, 3, 9, 3, 9, 9, 9, 9, 9, 9],\n",
       " [9, 3, 9, 9, 9, 9, 9, 9, 9, 9],\n",
       " [9, 3, 9, 9, 9, 9, 9, 9, 9, 9],\n",
       " [9, 3, 9, 9, 9, 9, 9, 9, 9, 9],\n",
       " [9, 3, 9, 9, 9, 9, 9, 9, 9, 9],\n",
       " [9, 3, 9, 9, 9, 9, 9, 9, 9, 9],\n",
       " [9, 3, 9, 9, 9, 9, 9, 9, 9, 9],\n",
       " [9, 9, 9, 9, 9, 9, 9, 9, 9, 9]]"
      ]
     },
     "execution_count": 141,
     "metadata": {},
     "output_type": "execute_result"
    }
   ],
   "source": [
    "history"
   ]
  },
  {
   "cell_type": "code",
   "execution_count": 142,
   "metadata": {},
   "outputs": [
    {
     "name": "stdout",
     "output_type": "stream",
     "text": [
      "220 µs ± 9.47 µs per loop (mean ± std. dev. of 7 runs, 1000 loops each)\n"
     ]
    }
   ],
   "source": [
    "%%timeit\n",
    "hc_scratch = HierarchicalClusterScratch()\n",
    "hc_scratch.fit(X)"
   ]
  },
  {
   "cell_type": "code",
   "execution_count": 143,
   "metadata": {},
   "outputs": [],
   "source": [
    "from sklearn.cluster import AgglomerativeClustering"
   ]
  },
  {
   "cell_type": "code",
   "execution_count": 146,
   "metadata": {},
   "outputs": [
    {
     "name": "stdout",
     "output_type": "stream",
     "text": [
      "148 µs ± 3.74 µs per loop (mean ± std. dev. of 7 runs, 10000 loops each)\n"
     ]
    }
   ],
   "source": [
    "%%timeit\n",
    "hc_sklearn = AgglomerativeClustering()\n",
    "hc_sklearn.fit(X)"
   ]
  },
  {
   "cell_type": "code",
   "execution_count": null,
   "metadata": {},
   "outputs": [],
   "source": []
  }
 ],
 "metadata": {
  "kernelspec": {
   "display_name": "Python 3",
   "language": "python",
   "name": "python3"
  },
  "language_info": {
   "codemirror_mode": {
    "name": "ipython",
    "version": 3
   },
   "file_extension": ".py",
   "mimetype": "text/x-python",
   "name": "python",
   "nbconvert_exporter": "python",
   "pygments_lexer": "ipython3",
   "version": "3.6.2"
  }
 },
 "nbformat": 4,
 "nbformat_minor": 2
}
