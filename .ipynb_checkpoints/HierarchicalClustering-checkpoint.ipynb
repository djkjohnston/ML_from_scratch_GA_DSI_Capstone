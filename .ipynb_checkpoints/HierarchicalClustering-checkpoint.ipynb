{
 "cells": [
  {
   "cell_type": "code",
   "execution_count": 4,
   "metadata": {},
   "outputs": [],
   "source": [
    "import numpy as np\n",
    "from sklearn.datasets import make_blobs\n",
    "import pandas as pd\n",
    "from scipy.spatial.distance import cdist, pdist\n",
    "from scipy.misc import comb\n",
    "import itertools\n",
    "%matplotlib inline"
   ]
  },
  {
   "cell_type": "code",
   "execution_count": 5,
   "metadata": {},
   "outputs": [],
   "source": [
    "blobs = make_blobs(n_samples=1000, n_features=2, centers=5, random_state=42)"
   ]
  },
  {
   "cell_type": "code",
   "execution_count": 6,
   "metadata": {},
   "outputs": [],
   "source": [
    "tmp_X = blobs[0]\n",
    "tmp_y= blobs[1]"
   ]
  },
  {
   "cell_type": "code",
   "execution_count": 7,
   "metadata": {},
   "outputs": [
    {
     "data": {
      "text/plain": [
       "<matplotlib.axes._subplots.AxesSubplot at 0x7fd6bad0bcc0>"
      ]
     },
     "execution_count": 7,
     "metadata": {},
     "output_type": "execute_result"
    },
    {
     "data": {
      "image/png": "[encoded data removed]",
      "text/plain": [
       "<matplotlib.figure.Figure at 0x7fd6bad0b400>"
      ]
     },
     "metadata": {},
     "output_type": "display_data"
    }
   ],
   "source": [
    "feature_names = ['feature_'+str(i) for i in range(tmp_X.shape[1])]\n",
    "blobs_df = pd.DataFrame(tmp_X, columns = feature_names)\n",
    "blobs_df['class'] = tmp_y\n",
    "blobs_df.head()\n",
    "\n",
    "blobs_df.plot.scatter(x='feature_0', y='feature_1', c='class', cmap='Set1')"
   ]
  },
  {
   "cell_type": "code",
   "execution_count": 8,
   "metadata": {},
   "outputs": [],
   "source": [
    "class HierarchicalClusterScratch():\n",
    "    def __init__(self):\n",
    "        self.dist_matrix = None # holds distance matrix\n",
    "        self.dist_queue = None # holds flattened distance matrix, used as a queue for clustering\n",
    "        self.cluster_hist = None # holds the history of cluster assignment\n",
    "\n",
    "    def fit(self, X):\n",
    "        # instantiate some things\n",
    "        self.__init_dists(X) # distances\n",
    "        \n",
    "#         print(self.dist_matrix)\n",
    "#         print(self.dist_queue)\n",
    "        \n",
    "        working_clusters = list(range(len(X))) # each entry in X is assigned a unique cluster \n",
    "        self.cluster_hist = [] # cluster history\n",
    "        self.cluster_hist.append(working_clusters.copy()) #store original state in cluster_history\n",
    "        \n",
    "#         print(self.dist_queue)\n",
    "        \n",
    "        for dist_i in self.dist_queue:\n",
    "            # check if all assigned clusters are the same\n",
    "            if len(set(working_clusters)) == 1:\n",
    "                break\n",
    "            \n",
    "            #identify the observation in X that have dist_i.\n",
    "            # Take every other entry since you will get [2,4] and [4,2] \n",
    "            # but want to be robust against cases were multiple distances have the same value\n",
    "            indexes_to_be_clustered = np.where(self.dist_matrix==dist_i)[0::2] \n",
    "            # I expect the np.where is causing speed issues at scale\n",
    "            \n",
    "            \n",
    "            for X_i in indexes_to_be_clustered:\n",
    "#                 print(working_clusters)\n",
    "#                 print(X_i)\n",
    "                obs_a = X_i[0]\n",
    "                obs_b = X_i[1]\n",
    "                \n",
    "                cluster_a = working_clusters[obs_a]\n",
    "                cluster_b = working_clusters[obs_b]\n",
    "                \n",
    "                count_a = working_clusters.count(cluster_a)\n",
    "                count_b = working_clusters.count(cluster_b)\n",
    "                \n",
    "                # group smaller cluster into the larger. \n",
    "                # If they are of equal size, group cluster_a into cluster_b\n",
    "                if count_a > count_b:\n",
    "                    working_clusters[obs_b] = cluster_a\n",
    "                else:\n",
    "                    working_clusters[obs_a] = cluster_b\n",
    "                self.cluster_hist.append(working_clusters.copy())\n",
    "                \n",
    "                # check if all points are assigned to the same cluster\n",
    "            if len(set(working_clusters)) == 1:\n",
    "#                 print(\"Clustering is complete!\")\n",
    "                break\n",
    "\n",
    "\n",
    "    def __init_dists(self, X):\n",
    "        # set distance matrix\n",
    "        tmp_dist = cdist(X, X)\n",
    "        np.fill_diagonal(tmp_dist, np.nan) #np.fill_diagonal works IN PLACE\n",
    "        self.dist_matrix = tmp_dist.copy()\n",
    "        \n",
    "        # set flat_dist\n",
    "        flat_dists = tmp_dist.flatten() #flatten\n",
    "        flat_dists.sort() # sort in place\n",
    "        \n",
    "        #every pairwise distance between points will appear twice (a->b, b->a). \n",
    "        #This removes the doubles but preserves any cases where the same distance incidentally occures\n",
    "        flat_length = len(flat_dists)\n",
    "        flat_length = range(len(flat_dists))\n",
    "        flat_length = list(flat_length)[0::2]\n",
    "        flat_dists = flat_dists[flat_length]\n",
    "        \n",
    "        flat_dists = flat_dists[~np.isnan(flat_dists)] # remove np.nans \n",
    "        self.dist_queue = flat_dists # should i use list?\n",
    "        \n"
   ]
  },
  {
   "cell_type": "code",
   "execution_count": 9,
   "metadata": {},
   "outputs": [],
   "source": [
    "class HierarchicalClusterScratch_mk2():\n",
    "    def __init__(self):\n",
    "        self.dist_queue = None # holds flattened distance matrix, used as a queue for clustering\n",
    "        self.index_queue = None # holds the index pairs of \n",
    "        self.cluster_hist = None # holds the history of cluster assignment\n",
    "\n",
    "    def fit(self, X):\n",
    "        # calculate distances and identify order of least to greatest\n",
    "        self.dist_queue = pdist(X) # distances\n",
    "        sort_order = self.dist_queue.argsort() #order of least to greatest\n",
    "#         self.dist_queue = self.dist_queue[sort_order] # not really necessary\n",
    "            \n",
    "        # generate index pairs\n",
    "        n_cases = X.shape[0]\n",
    "        \n",
    "        tmp_indices = np.indices((n_cases, n_cases))\n",
    "        tmp_indices = tmp_indices.T #transpose for easier selection later\n",
    "        n, m = np.triu_indices(n=10, m=10, k=1) #k=1 excludes same index combos (i.e. 0,0 or 1,1)\n",
    "        \n",
    "        \n",
    "        self.index_queue = itertools.combinations(range(len(X)), 2)\n",
    "        self.index_queue = np.array(list(self.index_queue)) #type as np.array so it can be reordered using sort_order       \n",
    "        self.index_queue = self.index_queue[sort_order] #index pairs ordered by distance\n",
    "        \n",
    "        # assign initial clusters and instantiate history\n",
    "        working_clusters = list(range(len(X))) # each entry in X is assigned a unique cluster \n",
    "        self.cluster_hist = [] # cluster history\n",
    "        self.cluster_hist.append(working_clusters.copy()) #store initial state in cluster_history\n",
    "        \n",
    "        for X_i in self.index_queue:\n",
    "            obs_a = X_i[0]\n",
    "            obs_b = X_i[1]\n",
    "\n",
    "            cluster_a = working_clusters[obs_a]\n",
    "            cluster_b = working_clusters[obs_b]\n",
    "            \n",
    "            if cluster_a == cluster_b:\n",
    "                continue\n",
    "\n",
    "            count_a = working_clusters.count(cluster_a)\n",
    "            count_b = working_clusters.count(cluster_b)\n",
    "\n",
    "            # group smaller cluster into the larger. \n",
    "            # If they are of equal size, group cluster_a into cluster_b\n",
    "            if count_a > count_b:\n",
    "                working_clusters[obs_b] = cluster_a\n",
    "            else:\n",
    "                working_clusters[obs_a] = cluster_b\n",
    "                \n",
    "            self.cluster_hist.append(working_clusters.copy())\n",
    "            \n",
    "            # check if all points are assigned to the same cluster\n",
    "            if len(set(working_clusters)) == 1:\n",
    "#                 print(\"Clustering is complete!\")\n",
    "                break"
   ]
  },
  {
   "cell_type": "code",
   "execution_count": 10,
   "metadata": {},
   "outputs": [],
   "source": [
    "class HierarchicalClusterScratch_mk3():\n",
    "    def __init__(self):\n",
    "        self.dist_queue = None # holds flattened distance matrix, used as a queue for clustering\n",
    "        self.index_queue = None # holds the index pairs of \n",
    "        self.cluster_hist = None # holds the history of cluster assignment\n",
    "\n",
    "    def fit(self, X):\n",
    "        # calculate distances and identify order of least to greatest\n",
    "        self.dist_queue = pdist(X) # distances\n",
    "        sort_order = self.dist_queue.argsort() #order of least to greatest\n",
    "#         self.dist_queue = self.dist_queue[sort_order] # not really necessary\n",
    "            \n",
    "        # generate index pairs\n",
    "        n_cases = X.shape[0]\n",
    "        \n",
    "        tmp_indices = np.indices((n_cases, n_cases))\n",
    "        tmp_indices = tmp_indices.T #transpose for easier selection later\n",
    "        n, m = np.triu_indices(n=n_cases, m=n_cases, k=1) #k=1 excludes same index combos (i.e. 0,0 or 1,1)\n",
    "        \n",
    "        tmp_index_queue = tmp_indices[m, n, :] # select unique index combinations\n",
    "        \n",
    "        self.index_queue = tmp_index_queue[sort_order] #index pairs ordered by distance\n",
    "        \n",
    "        # assign initial clusters and instantiate history\n",
    "        working_clusters = list(range(len(X))) # each entry in X is assigned a unique cluster \n",
    "        self.cluster_hist = [] # cluster history\n",
    "        self.cluster_hist.append(working_clusters.copy()) #store initial state in cluster_history\n",
    "        \n",
    "        for X_i in self.index_queue:\n",
    "            obs_a = X_i[0]\n",
    "            obs_b = X_i[1]\n",
    "\n",
    "            cluster_a = working_clusters[obs_a]\n",
    "            cluster_b = working_clusters[obs_b]\n",
    "            \n",
    "            if cluster_a == cluster_b:\n",
    "                continue\n",
    "\n",
    "            count_a = working_clusters.count(cluster_a)\n",
    "            count_b = working_clusters.count(cluster_b)\n",
    "\n",
    "            # group smaller cluster into the larger. \n",
    "            # If they are of equal size, group cluster_a into cluster_b\n",
    "            if count_a > count_b:\n",
    "                working_clusters[obs_b] = cluster_a\n",
    "            else:\n",
    "                working_clusters[obs_a] = cluster_b\n",
    "                \n",
    "            self.cluster_hist.append(working_clusters.copy())\n",
    "            \n",
    "            # check if all points are assigned to the same cluster\n",
    "            if len(set(working_clusters)) == 1:\n",
    "#                 print(\"Clustering is complete!\")\n",
    "                break"
   ]
  },
  {
   "cell_type": "code",
   "execution_count": 11,
   "metadata": {
    "scrolled": false
   },
   "outputs": [],
   "source": [
    "#too slow with sample sizes of any reasonable size\n",
    "# %%timeit\n",
    "# hc_scratch = HierarchicalClusterScratch()\n",
    "# hc_scratch.fit(blobs[0])"
   ]
  },
  {
   "cell_type": "code",
   "execution_count": 12,
   "metadata": {},
   "outputs": [
    {
     "name": "stdout",
     "output_type": "stream",
     "text": [
      "569 ms ± 38.4 ms per loop (mean ± std. dev. of 7 runs, 1 loop each)\n"
     ]
    }
   ],
   "source": [
    "%%timeit\n",
    "hc2_scratch = HierarchicalClusterScratch_mk2()\n",
    "hc2_scratch.fit(blobs[0])"
   ]
  },
  {
   "cell_type": "code",
   "execution_count": 13,
   "metadata": {},
   "outputs": [
    {
     "name": "stdout",
     "output_type": "stream",
     "text": [
      "430 ms ± 58 ms per loop (mean ± std. dev. of 7 runs, 1 loop each)\n"
     ]
    }
   ],
   "source": [
    "%%timeit\n",
    "hc3_scratch = HierarchicalClusterScratch_mk3()\n",
    "hc3_scratch.fit(blobs[0])"
   ]
  },
  {
   "cell_type": "code",
   "execution_count": 14,
   "metadata": {},
   "outputs": [],
   "source": [
    "# hc3_scratch.cluster_hist"
   ]
  },
  {
   "cell_type": "code",
   "execution_count": 15,
   "metadata": {},
   "outputs": [],
   "source": [
    "# hc_scratch.cluster_hist"
   ]
  },
  {
   "cell_type": "code",
   "execution_count": 16,
   "metadata": {},
   "outputs": [],
   "source": [
    "from sklearn.cluster import AgglomerativeClustering"
   ]
  },
  {
   "cell_type": "code",
   "execution_count": 17,
   "metadata": {},
   "outputs": [
    {
     "name": "stdout",
     "output_type": "stream",
     "text": [
      "16.6 ms ± 295 µs per loop (mean ± std. dev. of 7 runs, 100 loops each)\n"
     ]
    }
   ],
   "source": [
    "%%timeit\n",
    "hc_sklearn = AgglomerativeClustering()\n",
    "hc_sklearn.fit(blobs[0])"
   ]
  },
  {
   "cell_type": "code",
   "execution_count": null,
   "metadata": {},
   "outputs": [],
   "source": []
  }
 ],
 "metadata": {
  "kernelspec": {
   "display_name": "Python 3",
   "language": "python",
   "name": "python3"
  },
  "language_info": {
   "codemirror_mode": {
    "name": "ipython",
    "version": 3
   },
   "file_extension": ".py",
   "mimetype": "text/x-python",
   "name": "python",
   "nbconvert_exporter": "python",
   "pygments_lexer": "ipython3",
   "version": "3.6.2"
  }
 },
 "nbformat": 4,
 "nbformat_minor": 2
}
