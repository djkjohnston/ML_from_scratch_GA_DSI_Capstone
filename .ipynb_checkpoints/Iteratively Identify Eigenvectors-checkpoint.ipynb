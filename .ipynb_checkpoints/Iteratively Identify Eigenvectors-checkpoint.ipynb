{
 "cells": [
  {
   "cell_type": "code",
   "execution_count": 1,
   "metadata": {},
   "outputs": [],
   "source": [
    "import numpy as np"
   ]
  },
  {
   "cell_type": "code",
   "execution_count": 2,
   "metadata": {},
   "outputs": [
    {
     "data": {
      "text/plain": [
       "array([[ 1.48712217,  0.59639443,  0.99707583],\n",
       "       [ 0.59639443,  0.8809259 ,  0.86505913],\n",
       "       [ 0.99707583,  0.86505913,  1.55315338]])"
      ]
     },
     "execution_count": 2,
     "metadata": {},
     "output_type": "execute_result"
    }
   ],
   "source": [
    "A = np.random.rand(9)\n",
    "A = A.reshape(3,3)\n",
    "A = A.T.dot(A)\n",
    "A"
   ]
  },
  {
   "cell_type": "markdown",
   "metadata": {},
   "source": [
    "## The method\n",
    "The power iteration algorithm starts with a vector $b_0$, which may be an approximation to the dominant eigenvector or a random vector. The method is described by the recurrence relation\n",
    "\n",
    "$$ b_{k+1} = \\frac{Ab_k}{\\|Ab_k\\|} $$\n",
    "\n",
    "So, at every iteration, the vector $b_k$ is multiplied by the matrix $A$ and normalized.\n",
    "\n",
    "If we assume $A$ has an eigenvalue that is strictly greater in magnitude than its other eigenvalues and the starting vector $b_0$ has a nonzero component in the direction of an eigenvector associated with the dominant eigenvalue, then a subsequence $\\left( b_{k} \\right)$ converges to an eigenvector associated with the dominant eigenvalue.\n",
    "\n",
    "Without the two assumptions above, the sequence $\\left( b_{k} \\right)$ does not necessarily converge. "
   ]
  },
  {
   "cell_type": "code",
   "execution_count": 3,
   "metadata": {},
   "outputs": [],
   "source": [
    "def power_iteration(A, num_simulations):\n",
    "    # Ideally choose a random vector\n",
    "    # To decrease the chance that our vector\n",
    "    # Is orthogonal to the eigenvector\n",
    "    b_k = np.random.rand(A.shape[0])\n",
    "\n",
    "    for _ in range(num_simulations):\n",
    "        # calculate the matrix-by-vector product Ab\n",
    "        b_k1 = np.dot(A, b_k)\n",
    "\n",
    "        # calculate the norm\n",
    "        b_k1_norm = np.linalg.norm(b_k1)\n",
    "\n",
    "        # re normalize the vector\n",
    "        b_k = b_k1 / b_k1_norm\n",
    "\n",
    "    return b_k"
   ]
  },
  {
   "cell_type": "code",
   "execution_count": 4,
   "metadata": {},
   "outputs": [
    {
     "data": {
      "text/plain": [
       "array([ 0.60307139,  0.43749402,  0.66701116])"
      ]
     },
     "execution_count": 4,
     "metadata": {},
     "output_type": "execute_result"
    }
   ],
   "source": [
    "eig_1 = power_iteration(A, 5)\n",
    "eig_1"
   ]
  },
  {
   "cell_type": "code",
   "execution_count": 5,
   "metadata": {},
   "outputs": [],
   "source": [
    "def orthoganalize_matrix(M, vec):\n",
    "    T = M.copy()\n",
    "    for col in range(T.shape[1]):\n",
    "        T[:, col] -= T[:, col].dot(vec)*vec\n",
    "    return T"
   ]
  },
  {
   "cell_type": "code",
   "execution_count": 6,
   "metadata": {},
   "outputs": [
    {
     "data": {
      "text/plain": [
       "array([[ 0.38783127, -0.20090956, -0.21855732],\n",
       "       [-0.20107865,  0.30252716, -0.01681364],\n",
       "       [-0.2187658 , -0.01677786,  0.20863449]])"
      ]
     },
     "execution_count": 6,
     "metadata": {},
     "output_type": "execute_result"
    }
   ],
   "source": [
    "A_1 = orthoganalize_matrix(A, eig_1)\n",
    "A_1"
   ]
  },
  {
   "cell_type": "code",
   "execution_count": 7,
   "metadata": {},
   "outputs": [
    {
     "data": {
      "text/plain": [
       "array([ 0.78460364, -0.47615665, -0.3970793 ])"
      ]
     },
     "execution_count": 7,
     "metadata": {},
     "output_type": "execute_result"
    }
   ],
   "source": [
    "eig_2 = power_iteration(A_1, 8)\n",
    "eig_2"
   ]
  },
  {
   "cell_type": "code",
   "execution_count": 12,
   "metadata": {},
   "outputs": [
    {
     "data": {
      "text/plain": [
       "array([[ 0.00580294,  0.03056621, -0.02529424],\n",
       "       [ 0.03076494,  0.16205021, -0.13410025],\n",
       "       [-0.02542546, -0.1339252 ,  0.11082616]])"
      ]
     },
     "execution_count": 12,
     "metadata": {},
     "output_type": "execute_result"
    }
   ],
   "source": [
    "A_2 = orthoganalize_matrix(A_1, eig_2)\n",
    "A_2"
   ]
  },
  {
   "cell_type": "code",
   "execution_count": 13,
   "metadata": {},
   "outputs": [
    {
     "data": {
      "text/plain": [
       "array([ 0.14388198,  0.76280655, -0.63041585])"
      ]
     },
     "execution_count": 13,
     "metadata": {},
     "output_type": "execute_result"
    }
   ],
   "source": [
    "eig_3 = power_iteration(A_2, 10)\n",
    "eig_3"
   ]
  },
  {
   "cell_type": "code",
   "execution_count": 14,
   "metadata": {},
   "outputs": [
    {
     "data": {
      "text/plain": [
       "(array([ 0.60307139,  0.43749402,  0.66701116]),\n",
       " array([ 0.78460364, -0.47615665, -0.3970793 ]),\n",
       " array([ 0.14388198,  0.76280655, -0.63041585]))"
      ]
     },
     "execution_count": 14,
     "metadata": {},
     "output_type": "execute_result"
    }
   ],
   "source": [
    "eig_1, eig_2, eig_3"
   ]
  },
  {
   "cell_type": "code",
   "execution_count": 11,
   "metadata": {},
   "outputs": [
    {
     "data": {
      "text/plain": [
       "(array([ 3.02220857,  0.62031383,  0.27867906]),\n",
       " array([[ 0.60316005,  0.78465982, -0.14320237],\n",
       "        [ 0.43744147, -0.47554593, -0.76321755],\n",
       "        [ 0.66696545, -0.39769968,  0.63007306]]))"
      ]
     },
     "execution_count": 11,
     "metadata": {},
     "output_type": "execute_result"
    }
   ],
   "source": [
    "np.linalg.eig(A)"
   ]
  },
  {
   "cell_type": "code",
   "execution_count": null,
   "metadata": {},
   "outputs": [],
   "source": []
  }
 ],
 "metadata": {
  "kernelspec": {
   "display_name": "Python 3",
   "language": "python",
   "name": "python3"
  },
  "language_info": {
   "codemirror_mode": {
    "name": "ipython",
    "version": 3
   },
   "file_extension": ".py",
   "mimetype": "text/x-python",
   "name": "python",
   "nbconvert_exporter": "python",
   "pygments_lexer": "ipython3",
   "version": "3.6.2"
  }
 },
 "nbformat": 4,
 "nbformat_minor": 2
}
